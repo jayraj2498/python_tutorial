{
 "cells": [
  {
   "cell_type": "markdown",
   "metadata": {},
   "source": [
    "WAP to find whether a number is even or not?"
   ]
  },
  {
   "cell_type": "code",
   "execution_count": 1,
   "metadata": {},
   "outputs": [
    {
     "name": "stdout",
     "output_type": "stream",
     "text": [
      "1 is an odd number\n"
     ]
    }
   ],
   "source": [
    "num = int(input(\"Enter a number: \"))\n",
    "\n",
    "if( num % 2 == 0 ):\n",
    "    print(f\"{num} is an even number\")\n",
    "\n",
    "else:\n",
    "    print(f\"{num} is an odd number\")\n"
   ]
  },
  {
   "cell_type": "markdown",
   "metadata": {},
   "source": [
    "WAP to find whether a number is divisible by 15"
   ]
  },
  {
   "cell_type": "code",
   "execution_count": 4,
   "metadata": {},
   "outputs": [
    {
     "name": "stdout",
     "output_type": "stream",
     "text": [
      "45 is divisible by 15\n"
     ]
    }
   ],
   "source": [
    "num = int(input(\"Enter a number: \"))\n",
    "\n",
    "if( num % 3 == 0 and num % 5 == 0 ):\n",
    "    print(f\"{num} is divisible by 15\")\n",
    "\n",
    "else:\n",
    "    print(f\"{num} is not divisible by 15\")"
   ]
  },
  {
   "cell_type": "markdown",
   "metadata": {},
   "source": [
    "WAP to notify a person whether to take an umbrella or not based on it either rains or is very hot outside"
   ]
  },
  {
   "cell_type": "code",
   "execution_count": 9,
   "metadata": {},
   "outputs": [
    {
     "name": "stdout",
     "output_type": "stream",
     "text": [
      "You need not required to take an umbrella\n"
     ]
    }
   ],
   "source": [
    "condition = input(\"Enter the weather conditions: \")\n",
    "\n",
    "if( condition == \"rain\" or condition == \"hot\" ):\n",
    "    print(\"Please take an umbrella\")\n",
    "\n",
    "else:\n",
    "    print(\"You need not required to take an umbrella\")"
   ]
  },
  {
   "cell_type": "code",
   "execution_count": 13,
   "metadata": {},
   "outputs": [
    {
     "name": "stdout",
     "output_type": "stream",
     "text": [
      "52\n",
      "Data is not empty\n"
     ]
    }
   ],
   "source": [
    "data = 52\n",
    "\n",
    "print(data)\n",
    "\n",
    "if not data:\n",
    "    print(\"Data is empty\")\n",
    "\n",
    "else:\n",
    "    print(\"Data is not empty\")"
   ]
  },
  {
   "cell_type": "markdown",
   "metadata": {},
   "source": [
    "WAP to check whether a list is empty or not"
   ]
  },
  {
   "cell_type": "code",
   "execution_count": 15,
   "metadata": {},
   "outputs": [
    {
     "name": "stdout",
     "output_type": "stream",
     "text": [
      "The list is not empty\n"
     ]
    }
   ],
   "source": [
    "list1 = [65, 58]\n",
    "\n",
    "if not list1:\n",
    "    print(\"The list is empty\")\n",
    "\n",
    "else:\n",
    "    print(\"The list is not empty\")"
   ]
  },
  {
   "cell_type": "markdown",
   "metadata": {},
   "source": [
    "WAP to find largest of three numbers"
   ]
  },
  {
   "cell_type": "code",
   "execution_count": 16,
   "metadata": {},
   "outputs": [
    {
     "name": "stdout",
     "output_type": "stream",
     "text": [
      "96 is the largest of 85 and 71\n"
     ]
    }
   ],
   "source": [
    "#here we are considering that all the three numbers are distinct\n",
    "num1 = int(input(\"Enter the first number: \"))\n",
    "num2 = int(input(\"Enter the second number: \"))\n",
    "num3 = int(input(\"Enter the third number: \"))\n",
    "\n",
    "if num1 > num2 and num1 > num3:\n",
    "    print(f\"{num1} is the largest of {num2} and {num3}\")\n",
    "\n",
    "if num2 > num1 and num2 > num3:\n",
    "    print(f\"{num2} is the largest of {num1} and {num3}\")\n",
    "\n",
    "if num3 > num2 and num3 > num1:\n",
    "    print(f\"{num3} is the largest of {num2} and {num1}\")"
   ]
  },
  {
   "cell_type": "markdown",
   "metadata": {},
   "source": [
    "elif statement"
   ]
  },
  {
   "cell_type": "markdown",
   "metadata": {},
   "source": [
    "WAP to generate grades according the marks"
   ]
  },
  {
   "cell_type": "code",
   "execution_count": 20,
   "metadata": {},
   "outputs": [
    {
     "name": "stdout",
     "output_type": "stream",
     "text": [
      "Invalid marks entered\n",
      "You got grade NA against marks 170\n"
     ]
    }
   ],
   "source": [
    "marks = int(input(\"Enter your marks: \"))\n",
    "grade = \"NA\"\n",
    "if(marks > 100):\n",
    "    print(\"Invalid marks entered\")\n",
    "elif ( marks > 90 and marks <= 100):\n",
    "    grade = \"A+\"\n",
    "elif (marks > 80 and marks <=90):\n",
    "    grade = \"A\"\n",
    "elif (marks > 70 and marks <=80):\n",
    "    grade = \"B+\"\n",
    "elif (marks > 60 and marks <=70):\n",
    "    grade = \"B\"\n",
    "elif (marks > 50 and marks <=60):\n",
    "    grade = \"C\"\n",
    "else:\n",
    "    grade = \"D\"\n",
    "print(f\"You got grade {grade} against marks {marks}\")\n"
   ]
  },
  {
   "cell_type": "markdown",
   "metadata": {},
   "source": [
    "WAP to find the tax slab of a citizen"
   ]
  },
  {
   "cell_type": "code",
   "execution_count": 24,
   "metadata": {},
   "outputs": [
    {
     "name": "stdout",
     "output_type": "stream",
     "text": [
      "You have to pay a tax of 22500.0 on an yearly income of 600000\n"
     ]
    }
   ],
   "source": [
    "#here we are not taking any income tax deductions into consideration\n",
    "income = int(input(\"Enter your yearly income: \"))\n",
    "if(income <= 250000):\n",
    "    print(\"You don't have to pay any income tax\")\n",
    "elif( income >= 250001 and income <= 500000 ):\n",
    "    inc = income - 250000\n",
    "    tax = (inc * 0.05)\n",
    "    print(f\"You have to pay a tax of {tax} on an yearly income of {income}\")\n",
    "elif( income >= 500001 and income <= 750000 ):\n",
    "    inc = income - 500000\n",
    "    tax = 12500 + (inc * 0.10)\n",
    "    print(f\"You have to pay a tax of {tax} on an yearly income of {income}\")\n",
    "elif( income >= 750001 and income <= 1000000 ):\n",
    "    inc = income - 750000\n",
    "    tax = 37500 + (inc * 0.15)\n",
    "    print(f\"You have to pay a tax of {tax} on an yearly income of {income}\")\n",
    "elif( income >= 1000001 and income <= 1250000 ):\n",
    "    inc = income - 1000000\n",
    "    tax = 75000 + (inc * 0.20)\n",
    "    print(f\"You have to pay a tax of {tax} on an yearly income of {income}\")\n",
    "elif( income >= 1250001 and income <= 1500000 ):\n",
    "    inc = income - 1250000\n",
    "    tax = 125000 +  (inc * 0.25)\n",
    "    print(f\"You have to pay a tax of {tax} on an yearly income of {income}\")\n",
    "else:\n",
    "    inc = income - 1500000\n",
    "    tax = 187500 +  (inc * 0.30)\n",
    "    print(f\"You have to pay a tax of {tax} on an yearly income of {income}\")"
   ]
  },
  {
   "cell_type": "markdown",
   "metadata": {},
   "source": [
    "Short Hand If Else."
   ]
  },
  {
   "cell_type": "code",
   "execution_count": 25,
   "metadata": {},
   "outputs": [
    {
     "name": "stdout",
     "output_type": "stream",
     "text": [
      "B is largest\n"
     ]
    }
   ],
   "source": [
    "#shorthand if else is only used when we have only two conditions to be satisfied\n",
    "a = 60\n",
    "b = 70\n",
    "\n",
    "print( \"A is largest\" ) if a > b else print( \"B is largest\" )"
   ]
  },
  {
   "cell_type": "markdown",
   "metadata": {},
   "source": [
    "Nested if else - if....else inside another if...else"
   ]
  },
  {
   "cell_type": "code",
   "execution_count": 31,
   "metadata": {},
   "outputs": [
    {
     "name": "stdout",
     "output_type": "stream",
     "text": [
      "You have selected Iphone 12 pro\n"
     ]
    }
   ],
   "source": [
    "#we are considering only 3 models of iphone exist i.e. 12, 13 and 14 \n",
    "# and also only two variants are there i.e. pro and pro max\n",
    "model = int(input(\"Enter your Iphone model\"))\n",
    "if( model == 12 ):\n",
    "    variant = input(\"Enter your variant: \")\n",
    "    if(variant == \"pro\"):\n",
    "        print(f\"You have selected Iphone {model} {variant}\")\n",
    "    elif(variant == \"mini\"):\n",
    "        print(f\"You have selected Iphone {model} {variant}\")\n",
    "    else:\n",
    "        print(f\"You have selected Iphone {model} {variant}\")\n",
    "elif( model == 13 ):\n",
    "    variant = input(\"Enter your variant: \")\n",
    "    if(variant == \"pro\"):\n",
    "        print(f\"You have selected Iphone {model} {variant}\")\n",
    "    elif(variant == \"mini\"):\n",
    "        print(f\"You have selected Iphone {model} {variant}\")        \n",
    "    else:\n",
    "        print(f\"You have selected Iphone {model} {variant}\")\n",
    "else:\n",
    "    variant = input(\"Enter your variant: \")\n",
    "    if(variant == \"pro\"):\n",
    "        print(f\"You have selected Iphone {model} {variant}\")\n",
    "    elif(variant == \"plus\"):\n",
    "        print(f\"You have selected Iphone {model} {variant}\")\n",
    "    else:\n",
    "        print(f\"You have selected Iphone {model} {variant}\")"
   ]
  },
  {
   "cell_type": "markdown",
   "metadata": {},
   "source": [
    "Loops - is used to execute a set of statements n number of times or until a condition is true"
   ]
  },
  {
   "cell_type": "markdown",
   "metadata": {},
   "source": [
    "for loop - used when number of iterations are known"
   ]
  },
  {
   "cell_type": "code",
   "execution_count": 33,
   "metadata": {},
   "outputs": [],
   "source": [
    "#range(starting point, end value, step)"
   ]
  },
  {
   "cell_type": "code",
   "execution_count": 32,
   "metadata": {},
   "outputs": [],
   "source": [
    "#for item in iterable:\n",
    "#   body of for loop"
   ]
  },
  {
   "cell_type": "code",
   "execution_count": 35,
   "metadata": {},
   "outputs": [
    {
     "name": "stdout",
     "output_type": "stream",
     "text": [
      "Following items we have in set\n",
      "Item number 1 is Mango\n",
      "Item number 2 is Orange\n",
      "Item number 3 is Banana\n",
      "Item number 4 is Apple\n",
      "Item number 5 is Cherry\n"
     ]
    }
   ],
   "source": [
    "set1 = {\"Apple\", \"Apple\", \"Banana\", \"Mango\", \"Orange\", \"Cherry\"}\n",
    "print(\"Following items we have in set\")\n",
    "counter = 0\n",
    "\n",
    "for i in set1:\n",
    "    counter += 1\n",
    "    print(f\"Item number {counter} is {i}\")"
   ]
  },
  {
   "cell_type": "code",
   "execution_count": 37,
   "metadata": {},
   "outputs": [
    {
     "name": "stdout",
     "output_type": "stream",
     "text": [
      "2\n",
      "4\n",
      "6\n",
      "8\n"
     ]
    }
   ],
   "source": [
    "for i in range(2, 10, 2): #this will give you numbers from 2 to n-1 i.e., 9\n",
    "    print(i)"
   ]
  },
  {
   "cell_type": "code",
   "execution_count": 43,
   "metadata": {},
   "outputs": [],
   "source": [
    "length = 10"
   ]
  },
  {
   "cell_type": "code",
   "execution_count": 45,
   "metadata": {},
   "outputs": [
    {
     "name": "stdout",
     "output_type": "stream",
     "text": [
      "Item at position 1 is Apple\n",
      "Item at position 2 is Apple\n",
      "Item at position 3 is Banana\n",
      "Item at position 4 is Mango\n",
      "Item at position 5 is Orange\n",
      "Item at position 6 is Cherry\n"
     ]
    }
   ],
   "source": [
    "list1 = [\"Apple\", \"Apple\", \"Banana\", \"Mango\", \"Orange\", \"Cherry\"]\n",
    "\n",
    "length = len(list1)\n",
    "\n",
    "for i in range(length): #by default the starting position is 0 and goes till n-1 in this case 0 to 5\n",
    "    print(f\"Item at position {i+1} is {list1[i]}\")"
   ]
  },
  {
   "cell_type": "code",
   "execution_count": 46,
   "metadata": {},
   "outputs": [
    {
     "name": "stdout",
     "output_type": "stream",
     "text": [
      "Item at position 1 is Apple\n",
      "Item at position 2 is Apple\n",
      "Item at position 3 is Banana\n",
      "Item at position 4 is Mango\n",
      "Item at position 5 is Orange\n",
      "Item at position 6 is Cherry\n"
     ]
    }
   ],
   "source": [
    "list1 = [\"Apple\", \"Apple\", \"Banana\", \"Mango\", \"Orange\", \"Cherry\"]\n",
    "\n",
    "\n",
    "for i in range( len( list1 ) ): #by default the starting position is 0 and goes till n-1 in this case 0 to 5\n",
    "    print(f\"Item at position {i+1} is {list1[i]}\")"
   ]
  },
  {
   "cell_type": "markdown",
   "metadata": {},
   "source": [
    "While loop - 25/09/2022"
   ]
  }
 ],
 "metadata": {
  "kernelspec": {
   "display_name": "Python 3.10.7 64-bit",
   "language": "python",
   "name": "python3"
  },
  "language_info": {
   "codemirror_mode": {
    "name": "ipython",
    "version": 3
   },
   "file_extension": ".py",
   "mimetype": "text/x-python",
   "name": "python",
   "nbconvert_exporter": "python",
   "pygments_lexer": "ipython3",
   "version": "3.10.7"
  },
  "orig_nbformat": 4,
  "vscode": {
   "interpreter": {
    "hash": "590b180dab2cf1cf59e3c00b5a8264fd71429a2ca4746b38f592ec00d40d44a5"
   }
  }
 },
 "nbformat": 4,
 "nbformat_minor": 2
}
