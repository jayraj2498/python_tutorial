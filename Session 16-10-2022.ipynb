{
 "cells": [
  {
   "cell_type": "markdown",
   "metadata": {},
   "source": [
    "Datatypes available in Python - \n",
    "1. Numbers -> int and float\n",
    "2. String\n",
    "3. List\n",
    "4. Dictionary\n",
    "5. Tuple\n",
    "6. Set\n",
    "7. Complex Numbers"
   ]
  },
  {
   "cell_type": "code",
   "execution_count": 1,
   "metadata": {},
   "outputs": [],
   "source": [
    "x = 1 #this is an integer datatype\n",
    "x = 21.5 #this is a floating datatype\n",
    "x = 6j #this is a complex number"
   ]
  },
  {
   "cell_type": "markdown",
   "metadata": {},
   "source": [
    "How to check the datatype of the variable"
   ]
  },
  {
   "cell_type": "code",
   "execution_count": 4,
   "metadata": {},
   "outputs": [
    {
     "name": "stdout",
     "output_type": "stream",
     "text": [
      "<class 'int'>\n",
      "<class 'float'>\n",
      "<class 'complex'>\n"
     ]
    }
   ],
   "source": [
    "num1 = 25\n",
    "print( type( num1 ) )\n",
    "\n",
    "num2 = 256.36\n",
    "print( type( num2 ) )\n",
    "\n",
    "\n",
    "num3 = 5j\n",
    "print( type( num3 ) )"
   ]
  },
  {
   "cell_type": "markdown",
   "metadata": {},
   "source": [
    "Print a variable using formatted string"
   ]
  },
  {
   "cell_type": "code",
   "execution_count": 10,
   "metadata": {},
   "outputs": [
    {
     "name": "stdout",
     "output_type": "stream",
     "text": [
      "Value of num1 = 56 Value of num2 is = 86.3\n",
      "Value of num1 = 56 value of num2 is = 86.3\n"
     ]
    }
   ],
   "source": [
    "num1 = 56\n",
    "num2 = 86.3\n",
    "print( \"Value of num1 =\", num1, \"Value of num2 is =\", num2  )\n",
    "\n",
    "print( f\"Value of num1 = {num1} value of num2 is = {num2}\" )"
   ]
  },
  {
   "cell_type": "markdown",
   "metadata": {},
   "source": [
    "Type Conversion"
   ]
  },
  {
   "cell_type": "code",
   "execution_count": 14,
   "metadata": {},
   "outputs": [
    {
     "name": "stdout",
     "output_type": "stream",
     "text": [
      "Datatype of num1 before conversion - <class 'int'> and the value is 12\n",
      "Datatype of num1 before conversion - <class 'float'> and the value is 12.0\n"
     ]
    }
   ],
   "source": [
    "#convert integer to float\n",
    "num1 = 12\n",
    "print( f\"Datatype of num1 before conversion - { type( num1 ) } and the value is {num1}\" )\n",
    "\n",
    "num1 = float( num1 )\n",
    "print( f\"Datatype of num1 before conversion - { type( num1 ) } and the value is {num1}\" )\n"
   ]
  },
  {
   "cell_type": "code",
   "execution_count": 15,
   "metadata": {},
   "outputs": [
    {
     "name": "stdout",
     "output_type": "stream",
     "text": [
      "Datatype of num1 before conversion - <class 'int'> and the value is 12\n",
      "Datatype of num1 before conversion - <class 'str'> and the value is 12\n"
     ]
    }
   ],
   "source": [
    "#convert integer to str\n",
    "num1 = 12\n",
    "print( f\"Datatype of num1 before conversion - { type( num1 ) } and the value is {num1}\" )\n",
    "\n",
    "num1 = str( num1 )\n",
    "print( f\"Datatype of num1 before conversion - { type( num1 ) } and the value is {num1}\" )"
   ]
  },
  {
   "cell_type": "code",
   "execution_count": 17,
   "metadata": {},
   "outputs": [
    {
     "name": "stdout",
     "output_type": "stream",
     "text": [
      "Datatype of num1 before conversion - <class 'float'> and the value is 12.6\n",
      "Datatype of num1 before conversion - <class 'int'> and the value is 12\n"
     ]
    }
   ],
   "source": [
    "#convert float to integer\n",
    "num1 = 12.6\n",
    "print( f\"Datatype of num1 before conversion - { type( num1 ) } and the value is {num1}\" )\n",
    "\n",
    "num1 = int( num1 )\n",
    "print( f\"Datatype of num1 before conversion - { type( num1 ) } and the value is {num1}\" )"
   ]
  },
  {
   "cell_type": "markdown",
   "metadata": {},
   "source": [
    "Take input from user"
   ]
  },
  {
   "cell_type": "code",
   "execution_count": 29,
   "metadata": {},
   "outputs": [
    {
     "name": "stdout",
     "output_type": "stream",
     "text": [
      "Value of num1 = 25 and num2 = 12.6\n"
     ]
    }
   ],
   "source": [
    "num1 = int(input( \"Enter your first number- \" )) #by default the input type in python is string\n",
    "\n",
    "num2 = float(input( \"Enter your second number- \" ))\n",
    "\n",
    "print(f\"Value of num1 = {num1} and num2 = {num2}\")\n",
    "num3 = num1 + num2\n",
    "print(num3)"
   ]
  },
  {
   "cell_type": "markdown",
   "metadata": {},
   "source": [
    "Check the length of string"
   ]
  },
  {
   "cell_type": "code",
   "execution_count": 32,
   "metadata": {},
   "outputs": [
    {
     "data": {
      "text/plain": [
       "24"
      ]
     },
     "execution_count": 32,
     "metadata": {},
     "output_type": "execute_result"
    }
   ],
   "source": [
    "str1 = \"I like to code in python\"\n",
    "len(str1)"
   ]
  },
  {
   "cell_type": "markdown",
   "metadata": {},
   "source": [
    "Check for a word or a sentence in a string"
   ]
  },
  {
   "cell_type": "code",
   "execution_count": 34,
   "metadata": {},
   "outputs": [
    {
     "name": "stdout",
     "output_type": "stream",
     "text": [
      "False\n"
     ]
    }
   ],
   "source": [
    "txt = \"I like to code in python also I know how to write sql query\"\n",
    "\n",
    "print( \"python\" in txt )"
   ]
  },
  {
   "cell_type": "markdown",
   "metadata": {},
   "source": [
    "string index"
   ]
  },
  {
   "cell_type": "code",
   "execution_count": 59,
   "metadata": {},
   "outputs": [
    {
     "name": "stdout",
     "output_type": "stream",
     "text": [
      "I\n",
      "k\n",
      "n\n",
      "y\n",
      "ke t\n",
      "to co\n",
      "e to code in python\n",
      "I like to\n",
      "yth\n",
      "nohtyp ni edoc ot ekil I\n"
     ]
    }
   ],
   "source": [
    "txt = \"I like to code in python\"\n",
    "#indexing starts from 0 i.e., the element at position 1 will have index 0 and element at position n will have index n-1\n",
    "#indexing starts from 0 i.e., the element at index 0 will have position 1 and element at index n will have position n+1\n",
    "#space is also a character\n",
    "print( txt[0] ) #this will give the first character of the string\n",
    "print( txt[4] ) #this will give the 5th character of the string \n",
    "print( txt[-1] ) #this will give the last character of the string\n",
    "print( txt[-5] ) #this will give the 5th last character of the string\n",
    "print( txt[4:8] ) #this will print all the characters between starting index i.e., 4 & end index - 1 i.e., 7, which means\n",
    "#characters at index 4, 5, 6, 7 will be printed \n",
    "print( txt[7:12] ) #this will print all the characters at index 7, 8, 9, 10, 11\n",
    "print( txt[5:] ) #this will print all the characters from index 5 to end index\n",
    "print( txt[:9] ) #this will print all the characters from starting index to 8\n",
    "print( txt[-5:-2] )#this will print character from last 5th position till last 3rd position i.e., \n",
    "#you'll get characters from -5, -4, -3\n",
    "print( txt[::-1] ) #this will reverse the string"
   ]
  },
  {
   "cell_type": "code",
   "execution_count": 58,
   "metadata": {},
   "outputs": [
    {
     "name": "stdout",
     "output_type": "stream",
     "text": [
      "Ilk ocd npto\n"
     ]
    }
   ],
   "source": [
    "print( txt[::2] )"
   ]
  },
  {
   "cell_type": "markdown",
   "metadata": {},
   "source": [
    "Modification of string"
   ]
  },
  {
   "cell_type": "code",
   "execution_count": 70,
   "metadata": {},
   "outputs": [
    {
     "name": "stdout",
     "output_type": "stream",
     "text": [
      "PYTHON IS A INTERPRETED LANGUAGE\n",
      "python is a interpreted language\n",
      "Python is a interpreted language\n"
     ]
    }
   ],
   "source": [
    "txt = \"pyTHon is a interpreted language\"\n",
    "\n",
    "print( txt.upper() ) #this will convert the string to upper case\n",
    "print( txt.lower() ) #this will convert the string to lower case\n",
    "print( txt.capitalize() ) #this will capitalize the first character of the string"
   ]
  },
  {
   "cell_type": "markdown",
   "metadata": {},
   "source": [
    "Remove whitespaces from string"
   ]
  },
  {
   "cell_type": "code",
   "execution_count": 80,
   "metadata": {},
   "outputs": [
    {
     "name": "stdout",
     "output_type": "stream",
     "text": [
      "Before Strip--> On left of txt <-      Python is a language      ->on right of txt\n",
      "After Strip--> On left of txt <-Python is a language->on right of txt\n",
      "After Strip--> On left of txt <-Python is a language      ->on right of txt\n",
      "After Strip--> On left of txt <-      Python is a language->on right of txt\n"
     ]
    }
   ],
   "source": [
    "txt = \"      Python is a language      \"\n",
    "\n",
    "print( f\"Before Strip--> On left of txt <-{txt}->on right of txt\" )\n",
    "print( f\"After Strip--> On left of txt <-{txt.strip()}->on right of txt\" ) #strip method will remove the spaces from left and right of the senetence\n",
    "print( f\"After Strip--> On left of txt <-{txt.lstrip()}->on right of txt\" )#lstrip method will remove the spaces from left of the senetence\n",
    "print( f\"After Strip--> On left of txt <-{txt.rstrip()}->on right of txt\" )#rstrip method will remove the spaces from right of the senetence\n",
    "#use lstrip() and rstrip()\n",
    "\n"
   ]
  },
  {
   "cell_type": "markdown",
   "metadata": {},
   "source": [
    "Replace a character or set of characters from a string"
   ]
  },
  {
   "cell_type": "code",
   "execution_count": 86,
   "metadata": {},
   "outputs": [
    {
     "name": "stdout",
     "output_type": "stream",
     "text": [
      "Jello World, Jow are you? Jonda\n",
      "Hi World, How are you? Honda\n",
      "Jello World, Jow are you? Honda\n"
     ]
    }
   ],
   "source": [
    "txt = \"Hello World, How are you? Honda\"\n",
    "\n",
    "#replace H wil J\n",
    "\n",
    "print( txt.replace(\"H\", \"J\") ) #this will replace all the H with J\n",
    "\n",
    "print( txt.replace(\"Hello\", \"Hi\"))\n",
    "\n",
    "print( txt.replace(\"H\", \"J\", 2)) #this will replace first 2 occurences of H with J"
   ]
  }
 ],
 "metadata": {
  "kernelspec": {
   "display_name": "Python 3.10.6 64-bit",
   "language": "python",
   "name": "python3"
  },
  "language_info": {
   "codemirror_mode": {
    "name": "ipython",
    "version": 3
   },
   "file_extension": ".py",
   "mimetype": "text/x-python",
   "name": "python",
   "nbconvert_exporter": "python",
   "pygments_lexer": "ipython3",
   "version": "3.10.6"
  },
  "orig_nbformat": 4,
  "vscode": {
   "interpreter": {
    "hash": "a912f55fab05c87cb1cd04c2481425fcfa639c2a43819b922954b685e4a5e63c"
   }
  }
 },
 "nbformat": 4,
 "nbformat_minor": 2
}
