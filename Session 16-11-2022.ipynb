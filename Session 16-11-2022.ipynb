{
 "cells": [
  {
   "cell_type": "markdown",
   "metadata": {},
   "source": [
    "Inheritance"
   ]
  },
  {
   "cell_type": "code",
   "execution_count": 1,
   "metadata": {},
   "outputs": [
    {
     "name": "stdout",
     "output_type": "stream",
     "text": [
      "Hello!! My name is Ankit\n"
     ]
    }
   ],
   "source": [
    "class Person:\n",
    "    def __init__(self, name):\n",
    "        self.name = name\n",
    "        \n",
    "    def display(self):\n",
    "        print(f\"Hello!! My name is {self.name}\")\n",
    "\n",
    "obj1 = Person(\"Ankit\")\n",
    "obj1.display()"
   ]
  },
  {
   "cell_type": "code",
   "execution_count": 13,
   "metadata": {},
   "outputs": [
    {
     "name": "stdout",
     "output_type": "stream",
     "text": [
      "Hello!! My name is Ankit\n"
     ]
    }
   ],
   "source": [
    "#Parent Class\n",
    "class Person:\n",
    "    def __init__(self, name):\n",
    "        self.name = name\n",
    "       \n",
    "    def display(self):\n",
    "        print(f\"Hello!! My name is {self.name}\")\n",
    "p1 = Person(\"Ankit\")\n",
    "p1.display()\n",
    "#child class\n",
    "class emp(Person): #this emp class will inherit Person class properties\n",
    "    pass #this pass keyword is used to tell the interpretor that this is an empty class and\n",
    "        #something might be written in future but for now just execute without any body or block"
   ]
  },
  {
   "cell_type": "code",
   "execution_count": 8,
   "metadata": {},
   "outputs": [
    {
     "name": "stdout",
     "output_type": "stream",
     "text": [
      "Hello!! My name is Bhaskar\n"
     ]
    }
   ],
   "source": [
    "e1 = emp(\"Bhaskar\")\n",
    "e1.display()"
   ]
  },
  {
   "cell_type": "code",
   "execution_count": 22,
   "metadata": {},
   "outputs": [
    {
     "name": "stdout",
     "output_type": "stream",
     "text": [
      "You are inside emp __init__\n",
      "You are in Person __init__\n",
      "Name is coming from Parent\n",
      "Age is coming from Child\n",
      "Hello!! My name is Bhaskar and I am 25 years old\n"
     ]
    }
   ],
   "source": [
    "class Person: #Parent Class\n",
    "    def __init__(self, name):\n",
    "        print(\"You are in Person __init__\")\n",
    "        self.name = name\n",
    "        print(\"Name is coming from Parent\")    \n",
    "    def display(self):\n",
    "        print(f\"Hello!! My name is {self.name}\")\n",
    "\n",
    "class emp(Person): #child class\n",
    "    def __init__(self, name, age):\n",
    "        print(\"You are inside emp __init__\")\n",
    "        Person.__init__(self, name)\n",
    "        self.age = age\n",
    "        print(\"Age is coming from Child\")   \n",
    "    def display(self):\n",
    "        print(f\"Hello!! My name is {self.name} and I am {self.age} years old\")\n",
    "e1 = emp(\"Bhaskar\", 25)\n",
    "e1.display()"
   ]
  },
  {
   "cell_type": "markdown",
   "metadata": {},
   "source": [
    "Hostel - Electric kettle\n",
    "P1 - Wants to boil milk and egg - Personal Kettle\n",
    "P2 - Won't allow to boil eggs, \n",
    "P3 - Won't allow to boil milk"
   ]
  },
  {
   "cell_type": "markdown",
   "metadata": {},
   "source": [
    "super()"
   ]
  },
  {
   "cell_type": "code",
   "execution_count": 27,
   "metadata": {},
   "outputs": [
    {
     "name": "stdout",
     "output_type": "stream",
     "text": [
      "You are inside emp __init__\n",
      "You are in Person __init__\n",
      "Name and age is coming from Parent\n",
      "Hello!! My name is Bhaskar and I am 25 years old\n"
     ]
    }
   ],
   "source": [
    "class Person: #Parent Class\n",
    "    def __init__(self, name, age):\n",
    "        print(\"You are in Person __init__\")\n",
    "        self.name = name\n",
    "        self.age = age\n",
    "        print(\"Name and age is coming from Parent\")    \n",
    "    def display(self):\n",
    "        print(f\"Hello!! My name is {self.name}\")\n",
    "\n",
    "class emp(Person): #child class\n",
    "    def __init__(self, name, age):\n",
    "        print(\"You are inside emp __init__\")\n",
    "        super().__init__(name, age) #super will make the child class inherit\n",
    "                                #all the properties of parent   \n",
    "    def display(self):\n",
    "        print(f\"Hello!! My name is {self.name} and I am {self.age} years old\")\n",
    "e1 = emp(\"Bhaskar\", 25)\n",
    "e1.display()"
   ]
  },
  {
   "cell_type": "markdown",
   "metadata": {},
   "source": [
    "Abstract Class/ Abstraction"
   ]
  },
  {
   "cell_type": "markdown",
   "metadata": {},
   "source": [
    "Abstract function -> User will get to know \"What it does\" but not \"How it does\""
   ]
  },
  {
   "cell_type": "markdown",
   "metadata": {},
   "source": [
    "Abstract Class - A class that contains one or more of these abstract functions"
   ]
  },
  {
   "cell_type": "code",
   "execution_count": 29,
   "metadata": {},
   "outputs": [],
   "source": [
    "from abc import ABC #Abstract base class"
   ]
  },
  {
   "cell_type": "code",
   "execution_count": null,
   "metadata": {},
   "outputs": [],
   "source": [
    "class vehicle(ABC): #here this vehicle is an abstract class as it is a child class of ABC \n",
    "    def vehicle_type(self): #here this vehicle_type is an abstract method\n",
    "        pass"
   ]
  },
  {
   "cell_type": "code",
   "execution_count": 32,
   "metadata": {},
   "outputs": [
    {
     "name": "stdout",
     "output_type": "stream",
     "text": [
      "This is a car\n",
      "This is a bike\n"
     ]
    }
   ],
   "source": [
    "from abc import ABC #Abstract base class\n",
    "class vehicle(ABC):  \n",
    "    def vehicle_type(self): \n",
    "        pass\n",
    "class Car(vehicle):\n",
    "    def vehicle_type(self):\n",
    "        print(\"This is a car\")\n",
    "\n",
    "class Bike(vehicle):\n",
    "    def vehicle_type(self):\n",
    "        print(\"This is a bike\")\n",
    "\n",
    "c1 = Car()\n",
    "c1.vehicle_type()\n",
    "\n",
    "b1 = Bike()\n",
    "b1.vehicle_type()"
   ]
  },
  {
   "cell_type": "markdown",
   "metadata": {},
   "source": [
    "Polymorphism - One thing having many forms"
   ]
  },
  {
   "cell_type": "code",
   "execution_count": 36,
   "metadata": {},
   "outputs": [
    {
     "data": {
      "text/plain": [
       "6"
      ]
     },
     "execution_count": 36,
     "metadata": {},
     "output_type": "execute_result"
    }
   ],
   "source": [
    "tup1 = (13, 14, 15)\n",
    "str1 = \"Python\"\n",
    "\n",
    "len(str1)"
   ]
  },
  {
   "cell_type": "code",
   "execution_count": 3,
   "metadata": {},
   "outputs": [],
   "source": [
    "class India:\n",
    "    def capital(self):\n",
    "        print(\"Capital of India is New Delhi\")\n",
    "\n",
    "    def states(self):\n",
    "        print(\"Total No. of states in India is 28\")\n",
    "\n",
    "class USA:\n",
    "    def capital(self):\n",
    "        print(\"Capital of USA is Washington DC\")\n",
    "\n",
    "    def states(self):\n",
    "        print(\"Total No. of states in USA is 52\")\n",
    "\n"
   ]
  },
  {
   "cell_type": "code",
   "execution_count": 1,
   "metadata": {},
   "outputs": [],
   "source": [
    "import pandas "
   ]
  }
 ],
 "metadata": {
  "kernelspec": {
   "display_name": "Python 3.10.6 64-bit",
   "language": "python",
   "name": "python3"
  },
  "language_info": {
   "codemirror_mode": {
    "name": "ipython",
    "version": 3
   },
   "file_extension": ".py",
   "mimetype": "text/x-python",
   "name": "python",
   "nbconvert_exporter": "python",
   "pygments_lexer": "ipython3",
   "version": "3.10.6"
  },
  "orig_nbformat": 4,
  "vscode": {
   "interpreter": {
    "hash": "a912f55fab05c87cb1cd04c2481425fcfa639c2a43819b922954b685e4a5e63c"
   }
  }
 },
 "nbformat": 4,
 "nbformat_minor": 2
}
