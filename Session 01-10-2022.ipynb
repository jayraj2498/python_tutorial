{
 "cells": [
  {
   "cell_type": "markdown",
   "metadata": {},
   "source": [
    "break statement"
   ]
  },
  {
   "cell_type": "code",
   "execution_count": 8,
   "metadata": {},
   "outputs": [
    {
     "name": "stdout",
     "output_type": "stream",
     "text": [
      "You have enetered 4\n",
      "0\n",
      "1\n",
      "2\n",
      "3\n",
      "The number lies between 0 and 49\n"
     ]
    }
   ],
   "source": [
    "num = int(input(\"Enter a number: \"))\n",
    "print(f\"You have enetered {num}\")\n",
    "for i in range(50):\n",
    "    \n",
    "    if( i == num ):\n",
    "        print(\"The number lies between 0 and 49\")\n",
    "        break #this will terminate the loop as soon as a condition matches up\n",
    "    print(i)"
   ]
  },
  {
   "cell_type": "markdown",
   "metadata": {},
   "source": [
    "continue statement"
   ]
  },
  {
   "cell_type": "code",
   "execution_count": 12,
   "metadata": {},
   "outputs": [
    {
     "name": "stdout",
     "output_type": "stream",
     "text": [
      "You have enetered 8\n",
      "0\n",
      "1\n",
      "2\n",
      "3\n",
      "4\n",
      "5\n",
      "6\n",
      "7\n",
      "Skipping this step\n",
      "9\n"
     ]
    }
   ],
   "source": [
    "num = int(input(\"Enter a number: \"))\n",
    "print(f\"You have enetered {num}\")\n",
    "for i in range(10):\n",
    "    \n",
    "    if( i == num ):\n",
    "        print(\"Skipping this step\")\n",
    "        continue #this will skip this step as soon as the condition matches up\n",
    "    print(i)"
   ]
  },
  {
   "cell_type": "markdown",
   "metadata": {},
   "source": [
    "for...else loop"
   ]
  },
  {
   "cell_type": "code",
   "execution_count": 15,
   "metadata": {},
   "outputs": [
    {
     "name": "stdout",
     "output_type": "stream",
     "text": [
      "You have enetered 80\n",
      "0\n",
      "1\n",
      "2\n",
      "3\n",
      "4\n",
      "5\n",
      "6\n",
      "7\n",
      "8\n",
      "9\n",
      "The loop terminated normally i.e., break statement was not encountered\n"
     ]
    }
   ],
   "source": [
    "num = int(input(\"Enter a number: \"))\n",
    "print(f\"You have enetered {num}\")\n",
    "for i in range(10):\n",
    "    \n",
    "    if( i == num ):\n",
    "        print(\"Break encountered\")\n",
    "        break #this will terminate the loop as soon as a condition matches up\n",
    "    print(i)\n",
    "\n",
    "else:\n",
    "    print(\"The loop terminated normally i.e., break statement was not encountered\")"
   ]
  },
  {
   "cell_type": "markdown",
   "metadata": {},
   "source": [
    "Nested Loops"
   ]
  },
  {
   "cell_type": "code",
   "execution_count": 25,
   "metadata": {},
   "outputs": [
    {
     "name": "stdout",
     "output_type": "stream",
     "text": [
      "* \n",
      "* * \n",
      "* * * \n",
      "* * * * \n",
      "* * * * * \n",
      "* * * * * * \n",
      "* * * * * * * \n",
      "* * * * * * * * \n",
      "* * * * * * * * * \n",
      "* * * * * * * * * * \n"
     ]
    }
   ],
   "source": [
    "for i in range(10):\n",
    "    for j in range(i+1):\n",
    "        print(\"*\", end = \" \")\n",
    "\n",
    "    print()"
   ]
  },
  {
   "cell_type": "markdown",
   "metadata": {},
   "source": [
    "while loop - this is used when we don't know the number of executions i.e., it loops till a condition is true"
   ]
  },
  {
   "cell_type": "code",
   "execution_count": 1,
   "metadata": {},
   "outputs": [
    {
     "name": "stdout",
     "output_type": "stream",
     "text": [
      "Your name is Rahul\n",
      "Your name is Anuj\n",
      "Your name is Abhi\n",
      "Your name is Ankita\n"
     ]
    }
   ],
   "source": [
    "ch = \"y\"\n",
    "\n",
    "while ch == \"y\":\n",
    "    name = input(\"Enter your name\")\n",
    "    print(f\"Your name is {name}\")\n",
    "    ch = input(\"Do you want to use it again\")\n",
    "    \n"
   ]
  },
  {
   "cell_type": "code",
   "execution_count": 3,
   "metadata": {},
   "outputs": [
    {
     "name": "stdout",
     "output_type": "stream",
     "text": [
      "\n",
      "The details entered are - \n",
      "Name - Rahul \n",
      "Age - 26 \n",
      "Designation - Team Lead \n",
      "Salary - 80000\n",
      "\n",
      "The details entered are - \n",
      "Name - Anuj \n",
      "Age - 28 \n",
      "Designation - Manager \n",
      "Salary - 100000\n",
      "Thanks for using the app\n"
     ]
    }
   ],
   "source": [
    "#Simple program to fill a form\n",
    "#\\n - nextline character\n",
    "while True:\n",
    "    name = input(\"Enter name: \")\n",
    "    age = input(\"Enter age: \")\n",
    "    designation = input(\"Enter designation: \") \n",
    "    salary = input(\"Enter salary: \") \n",
    "\n",
    "    print(\"\\nThe details entered are - \")\n",
    "    print(f\"Name - {name} \\nAge - {age} \\nDesignation - {designation} \\nSalary - {salary}\")\n",
    "\n",
    "    ch = input(\"Do you want to fill the form again? (y/n)\")\n",
    "    if(ch != \"y\"):\n",
    "        print(\"Thanks for using the app\")\n",
    "        break"
   ]
  },
  {
   "cell_type": "code",
   "execution_count": null,
   "metadata": {},
   "outputs": [],
   "source": [
    "#WAP to create a banking app where you'll take customer details like \n",
    "#name, dob, opening balance, address, mobile and alot a debit card"
   ]
  },
  {
   "cell_type": "code",
   "execution_count": 5,
   "metadata": {},
   "outputs": [
    {
     "name": "stdout",
     "output_type": "stream",
     "text": [
      "2 is an even number\n",
      "3 is an odd number\n",
      "4 is an even number\n",
      "5 is an odd number\n",
      "6 is an even number\n",
      "7 is an odd number\n",
      "8 is an even number\n",
      "9 is an odd number\n",
      "10 is an even number\n",
      "11 is an odd number\n",
      "12 is an even number\n",
      "13 is an odd number\n",
      "14 is an even number\n",
      "15 is an odd number\n"
     ]
    }
   ],
   "source": [
    "#even odd using while\n",
    "num = 2\n",
    "while num <= 15:\n",
    "    if(num % 2 == 0):\n",
    "        print(f\"{num} is an even number\")\n",
    "\n",
    "    else:\n",
    "        print(f\"{num} is an odd number\")\n",
    "\n",
    "    num += 1\n"
   ]
  },
  {
   "cell_type": "markdown",
   "metadata": {},
   "source": [
    "Functions - is a block of code which only runs when it is called"
   ]
  },
  {
   "cell_type": "code",
   "execution_count": 7,
   "metadata": {},
   "outputs": [
    {
     "name": "stdout",
     "output_type": "stream",
     "text": [
      "Hello world\n"
     ]
    }
   ],
   "source": [
    "def hello(): #declaring the function\n",
    "    print(\"Hello world\") #body of function\n",
    "\n",
    "hello() #calling the function"
   ]
  },
  {
   "cell_type": "code",
   "execution_count": 9,
   "metadata": {},
   "outputs": [
    {
     "name": "stdout",
     "output_type": "stream",
     "text": [
      "Hello World\n",
      "Hello World\n",
      "None\n"
     ]
    }
   ],
   "source": [
    "#No parameter and no return\n",
    "def hello():\n",
    "    print(\"Hello World\")\n",
    "\n",
    "hello()\n",
    "print(hello())"
   ]
  },
  {
   "cell_type": "code",
   "execution_count": 20,
   "metadata": {},
   "outputs": [
    {
     "name": "stdout",
     "output_type": "stream",
     "text": [
      "Hello World\n",
      "Function has returned - How are you?\n"
     ]
    }
   ],
   "source": [
    "#No parameter but a return\n",
    "def hello():\n",
    "    print(\"Hello World\")\n",
    "    return \"How are you?\"\n",
    "\n",
    "returned_value = hello()\n",
    "print(f\"Function has returned - {returned_value}\")\n",
    "\n"
   ]
  },
  {
   "cell_type": "code",
   "execution_count": 22,
   "metadata": {},
   "outputs": [
    {
     "name": "stdout",
     "output_type": "stream",
     "text": [
      "Interest to be paid = 12000.0\n",
      "Final amount to be paid = 32000.0\n"
     ]
    }
   ],
   "source": [
    "#No return but a paramter\n",
    "\n",
    "def simple_interest(p, r, t): #Paramter are used to hold the information passed to the functions by arguments in this case p, r, t\n",
    "    si = p * r * t / 100 \n",
    "    print(f\"Interest to be paid = {si}\")\n",
    "    total_amount = p + si\n",
    "    print(f\"Final amount to be paid = {total_amount}\")\n",
    "simple_interest(20000, 6, 10) #argument is the information passed to the function in this case 20000, 6, 10"
   ]
  },
  {
   "cell_type": "code",
   "execution_count": 23,
   "metadata": {},
   "outputs": [
    {
     "name": "stdout",
     "output_type": "stream",
     "text": [
      "Interest to be paid = 12000.0\n",
      "Final amount to be paid = 32000.0\n"
     ]
    }
   ],
   "source": [
    "#Paramter as well as return\n",
    "def simple_interest(p, r, t):\n",
    "    si = p * r * t / 100 \n",
    "    print(f\"Interest to be paid = {si}\")\n",
    "    total_amount = p + si\n",
    "    return total_amount\n",
    "final_amount = simple_interest(20000, 6, 10)\n",
    "print(f\"Final amount to be paid = {final_amount}\")"
   ]
  },
  {
   "cell_type": "code",
   "execution_count": null,
   "metadata": {},
   "outputs": [],
   "source": []
  }
 ],
 "metadata": {
  "kernelspec": {
   "display_name": "Python 3.10.7 64-bit",
   "language": "python",
   "name": "python3"
  },
  "language_info": {
   "codemirror_mode": {
    "name": "ipython",
    "version": 3
   },
   "file_extension": ".py",
   "mimetype": "text/x-python",
   "name": "python",
   "nbconvert_exporter": "python",
   "pygments_lexer": "ipython3",
   "version": "3.10.7"
  },
  "orig_nbformat": 4,
  "vscode": {
   "interpreter": {
    "hash": "590b180dab2cf1cf59e3c00b5a8264fd71429a2ca4746b38f592ec00d40d44a5"
   }
  }
 },
 "nbformat": 4,
 "nbformat_minor": 2
}
