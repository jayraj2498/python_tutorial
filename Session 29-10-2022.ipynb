{
 "cells": [
  {
   "cell_type": "markdown",
   "metadata": {},
   "source": [
    "List Concatenate / Repitition"
   ]
  },
  {
   "cell_type": "code",
   "execution_count": 4,
   "metadata": {},
   "outputs": [
    {
     "data": {
      "text/plain": [
       "[1, 3, 4, 6, 1, 3, 4, 6, 1, 3, 4, 6]"
      ]
     },
     "execution_count": 4,
     "metadata": {},
     "output_type": "execute_result"
    }
   ],
   "source": [
    "#List Repitition\n",
    "\n",
    "list1 = [ 1, 3, 4, 6 ]\n",
    "\n",
    "list1 * 3"
   ]
  },
  {
   "cell_type": "code",
   "execution_count": 7,
   "metadata": {},
   "outputs": [
    {
     "data": {
      "text/plain": [
       "[1, 2, 3, 4, 5, 6, 7, 8]"
      ]
     },
     "execution_count": 7,
     "metadata": {},
     "output_type": "execute_result"
    }
   ],
   "source": [
    "#List Concatenation\n",
    "list1 = [ 1, 2, 3, 4 ]\n",
    "\n",
    "list2 = [ 5, 6, 7, 8 ]\n",
    "\n",
    "list1 + list2 "
   ]
  },
  {
   "cell_type": "markdown",
   "metadata": {},
   "source": [
    "Set"
   ]
  },
  {
   "cell_type": "markdown",
   "metadata": {},
   "source": [
    "1. Set - is one of the 4 bulit in dataypes that is used to store multiple items in a single variable or used to store collection of data\n",
    "2. Set can store any type of data in it or mixed datatypes as well\n",
    "3. Set is unordered.\n",
    "4. Set is mutable i.e., we can manipulate the items in the Set once declared\n",
    "5. Set doesn't allows duplicate items in it"
   ]
  },
  {
   "cell_type": "markdown",
   "metadata": {},
   "source": [
    "Mutable - Where you can manipulate the items inside list/set/dictionary, here maipulation means you can add an item, delete an item, replace an item {only for list & dictionary} for set you need to convert that first into list in order to replace any item because set is unordered."
   ]
  },
  {
   "cell_type": "code",
   "execution_count": 14,
   "metadata": {},
   "outputs": [],
   "source": [
    "#Point 1\n",
    "fruits = { \"Apple\", \"Banana\", \"Mango\" }\n",
    "\n",
    "#Point 2\n",
    "int_set = { 1, 2, 3, 4, 5, 6 }\n",
    "float_set = { 12.5, 2.5, 5.7, 6.9, 6.3 }\n",
    "set_1 = { \"Apple\", \"Banana\", \"Mango\" }\n",
    "mixed_set = { 1, 3, 5, 6.7, 8.9, 9.1, \"Mango\", \"Banana\", True }\n"
   ]
  },
  {
   "cell_type": "code",
   "execution_count": 9,
   "metadata": {},
   "outputs": [
    {
     "data": {
      "text/plain": [
       "dict"
      ]
     },
     "execution_count": 9,
     "metadata": {},
     "output_type": "execute_result"
    }
   ],
   "source": [
    "empty_set = {} \n",
    "\n",
    "#The default datatype of a empty set is dictionary\n",
    "\n",
    "type(empty_set)"
   ]
  },
  {
   "cell_type": "code",
   "execution_count": 12,
   "metadata": {},
   "outputs": [
    {
     "name": "stdout",
     "output_type": "stream",
     "text": [
      "{'Apple', 2, 6, 7, 'Banana'}\n"
     ]
    }
   ],
   "source": [
    "#Point 3\n",
    "\n",
    "ord_set = { 6, 7, 2, \"Apple\", \"Banana\" }\n",
    "\n",
    "print(ord_set)      "
   ]
  },
  {
   "cell_type": "code",
   "execution_count": 18,
   "metadata": {},
   "outputs": [
    {
     "name": "stdout",
     "output_type": "stream",
     "text": [
      "{'Apple', 'Banana', 'Peach'}\n"
     ]
    }
   ],
   "source": [
    "#Point 4\n",
    "fruits = { \"Apple\", \"Banana\" }\n",
    "\n",
    "#Add a single element to the set\n",
    "fruits.add(\"Peach\")\n",
    "print(fruits)\n"
   ]
  },
  {
   "cell_type": "code",
   "execution_count": 19,
   "metadata": {},
   "outputs": [
    {
     "name": "stdout",
     "output_type": "stream",
     "text": [
      "{'Apple', 'Cherry', 'Peach', 'Banana', 'Orange'}\n"
     ]
    }
   ],
   "source": [
    "#Update the set with another set\n",
    "fruits1 = { \"Apple\", \"Banana\" }\n",
    "fruits2 = { \"Peach\", \"Cherry\", \"Orange\" }\n",
    "\n",
    "fruits1.update(fruits2)\n",
    "\n",
    "print(fruits1)"
   ]
  },
  {
   "cell_type": "code",
   "execution_count": 28,
   "metadata": {},
   "outputs": [
    {
     "name": "stdout",
     "output_type": "stream",
     "text": [
      "{'Apple', 'Cherry', 'Peach', 'Banana', 'Orange'}\n",
      "{'Cherry', 'Peach', 'Banana', 'Orange'}\n"
     ]
    }
   ],
   "source": [
    "#Delete an item\n",
    "\n",
    "fruits = { \"Peach\", \"Cherry\", \"Orange\", \"Apple\", \"Banana\" }\n",
    "\n",
    "print(fruits)\n",
    "\n",
    "fruits.pop() #this will remove a random item from set\n",
    "print(fruits)"
   ]
  },
  {
   "cell_type": "code",
   "execution_count": 29,
   "metadata": {},
   "outputs": [
    {
     "name": "stdout",
     "output_type": "stream",
     "text": [
      "{'Apple', 'Cherry', 'Peach', 'Banana', 'Orange'}\n",
      "{'Apple', 'Cherry', 'Peach', 'Orange'}\n"
     ]
    }
   ],
   "source": [
    "#Delete a specific item\n",
    "\n",
    "fruits = { \"Peach\", \"Cherry\", \"Orange\", \"Apple\", \"Banana\" }\n",
    "\n",
    "print(fruits)\n",
    "\n",
    "fruits.remove( \"Banana\" ) #this will remove a specific item from set\n",
    "print(fruits)"
   ]
  },
  {
   "cell_type": "code",
   "execution_count": 38,
   "metadata": {},
   "outputs": [
    {
     "name": "stdout",
     "output_type": "stream",
     "text": [
      "['Apple', 'Cherry', 'Peach', 'Banana', 'Orange']\n",
      "{'Mango', 'Banana', 'Apple', 'Peach', 'Orange'}\n"
     ]
    }
   ],
   "source": [
    "# Replacing an item -> You cannot directly replace an item in a set you have to first convert \n",
    "# that set into a list and then replace the item from the list and convert back that list to set\n",
    "\n",
    "fruits = { \"Peach\", \"Cherry\", \"Orange\", \"Apple\", \"Banana\" }\n",
    "\n",
    "fruits = list(fruits)\n",
    "print(fruits)\n",
    "\n",
    "fruits[1] = \"Mango\"\n",
    "\n",
    "fruits = set(fruits)\n",
    "print(fruits)"
   ]
  },
  {
   "cell_type": "code",
   "execution_count": 15,
   "metadata": {},
   "outputs": [],
   "source": [
    "#Slicing is not possible in set as set doesn't allows dulicate items"
   ]
  },
  {
   "cell_type": "code",
   "execution_count": 34,
   "metadata": {},
   "outputs": [
    {
     "data": {
      "text/plain": [
       "{'Apple', 'Banana', 'Mango'}"
      ]
     },
     "execution_count": 34,
     "metadata": {},
     "output_type": "execute_result"
    }
   ],
   "source": [
    "#Point 5\n",
    "\n",
    "set1 = { \"Apple\", \"Banana\", \"Mango\", \"Apple\", \"Apple\" }\n",
    "set1"
   ]
  },
  {
   "cell_type": "markdown",
   "metadata": {},
   "source": [
    "Dictionary"
   ]
  },
  {
   "cell_type": "markdown",
   "metadata": {},
   "source": [
    "1. Dictionary - is one of the 4 bulit in dataypes that is used to store items in a key value pair format\n",
    "2. Dictionary can store any type of data in it or mixed datatypes as well\n",
    "3. Dictionary is ordered.\n",
    "4. Dictionary is mutable i.e., we can manipulate the items in the Set once declared\n",
    "5. Dictionary doesn't allows duplicate key in it"
   ]
  },
  {
   "cell_type": "code",
   "execution_count": null,
   "metadata": {},
   "outputs": [],
   "source": [
    "#Point 1\n",
    "\n",
    "dict1 = {\n",
    "            \"A\" : \"Apple\",\n",
    "            \"D\" : \"Dell\",\n",
    "            \"H\" : \"HP\",\n",
    "            \"L\" : \"Lenovo\",\n",
    "            \"M\" : \"Microsoft\"\n",
    "\n",
    "        }\n"
   ]
  },
  {
   "cell_type": "code",
   "execution_count": 39,
   "metadata": {},
   "outputs": [],
   "source": [
    "#Point 2\n",
    "#try this out"
   ]
  },
  {
   "cell_type": "code",
   "execution_count": 40,
   "metadata": {},
   "outputs": [
    {
     "data": {
      "text/plain": [
       "{'A': 'Apple', 'D': 'Dell', 'H': 'HP', 'L': 'Lenovo', 'M': 'Microsoft'}"
      ]
     },
     "execution_count": 40,
     "metadata": {},
     "output_type": "execute_result"
    }
   ],
   "source": [
    "#Point 3\n",
    "\n",
    "dict1 = {\n",
    "            \"A\" : \"Apple\",\n",
    "            \"D\" : \"Dell\",\n",
    "            \"H\" : \"HP\",\n",
    "            \"L\" : \"Lenovo\",\n",
    "            \"M\" : \"Microsoft\"\n",
    "\n",
    "        }\n",
    "\n",
    "dict1"
   ]
  },
  {
   "cell_type": "code",
   "execution_count": 45,
   "metadata": {},
   "outputs": [],
   "source": [
    "#Point 4\n",
    "\n",
    "dict1 = {\n",
    "            \"A\" : \"Apple\",\n",
    "            \"D\" : \"Dell\",\n",
    "            \"H\" : \"HP\",\n",
    "            \"L\" : \"Lenovo\",\n",
    "            \"M\" : \"Microsoft\"\n",
    "\n",
    "        }"
   ]
  },
  {
   "cell_type": "code",
   "execution_count": 46,
   "metadata": {},
   "outputs": [
    {
     "name": "stdout",
     "output_type": "stream",
     "text": [
      "{'A': 'Apple', 'D': 'Dell', 'H': 'HP', 'L': 'Lenovo', 'M': 'Microsoft', 'S': 'Samsung'}\n"
     ]
    }
   ],
   "source": [
    "#Add a single item to the dictionary\n",
    "\n",
    "#dictionary_name[new key you want to create] = value corresponding to that key\n",
    "\n",
    "dict1[\"S\"] = \"Samsung\"\n",
    "\n",
    "print(dict1)"
   ]
  },
  {
   "cell_type": "code",
   "execution_count": 50,
   "metadata": {},
   "outputs": [
    {
     "name": "stdout",
     "output_type": "stream",
     "text": [
      "{'A': 'Apple', 'D': 'Dell', 'H': 'HP'}\n",
      "{'A': 'Apple', 'D': 'Dell', 'H': 'HP', 'L': 'Lenovo', 'M': 'Microsoft'}\n"
     ]
    }
   ],
   "source": [
    "#Update a dictionary items with other dictionary or adding multiple items at a time\n",
    "\n",
    "dict1 = {\n",
    "            \"A\" : \"Apple\",\n",
    "            \"D\" : \"Dell\",\n",
    "            \"H\" : \"HP\"\n",
    "        }\n",
    "\n",
    "dict2 = {\n",
    "            \"L\" : \"Lenovo\",\n",
    "            \"M\" : \"Microsoft\"\n",
    "        }\n",
    "\n",
    "print(dict1)\n",
    "dict1.update(dict2)\n",
    "print(dict1)"
   ]
  },
  {
   "cell_type": "code",
   "execution_count": 69,
   "metadata": {},
   "outputs": [
    {
     "name": "stdout",
     "output_type": "stream",
     "text": [
      "{'A': 'Apple', 'D': 'Dell', 'H': 'HP', 'L': 'Lenovo', 'M': 'Microsoft'}\n",
      "{'A': 'Apple', 'H': 'HP', 'L': 'Lenovo', 'M': 'Microsoft'}\n"
     ]
    }
   ],
   "source": [
    "#Delete a specific item from the dictionary\n",
    "\n",
    "dict1 = {\n",
    "            \"A\" : \"Apple\",\n",
    "            \"D\" : \"Dell\",\n",
    "            \"H\" : \"HP\",\n",
    "            \"L\" : \"Lenovo\",\n",
    "            \"M\" : \"Microsoft\"\n",
    "\n",
    "        }\n",
    "\n",
    "print(dict1)\n",
    "dict1.pop(\"D\") #here you need to pass on the key which key-value pair you want to delete\n",
    "print(dict1)"
   ]
  },
  {
   "cell_type": "code",
   "execution_count": 60,
   "metadata": {},
   "outputs": [
    {
     "name": "stdout",
     "output_type": "stream",
     "text": [
      "{'A': 'Apple', 'D': 'Dell', 'H': 'HP', 'L': 'Lenovo', 'M': 'Microsoft'}\n"
     ]
    },
    {
     "data": {
      "text/plain": [
       "('M', 'Microsoft')"
      ]
     },
     "execution_count": 60,
     "metadata": {},
     "output_type": "execute_result"
    }
   ],
   "source": [
    "dict1 = {\n",
    "            \"A\" : \"Apple\",\n",
    "            \"D\" : \"Dell\",\n",
    "            \"H\" : \"HP\",\n",
    "            \"L\" : \"Lenovo\",\n",
    "            \"M\" : \"Microsoft\"\n",
    "\n",
    "        }\n",
    "\n",
    "print(dict1)\n",
    "dict1.popitem() #this will remove the last key-value pair from the dictionary"
   ]
  },
  {
   "cell_type": "code",
   "execution_count": 63,
   "metadata": {},
   "outputs": [
    {
     "name": "stdout",
     "output_type": "stream",
     "text": [
      "{'A': 'Asus', 'D': 'Dell', 'H': 'HP', 'L': 'Lenovo', 'M': 'Microsoft'}\n"
     ]
    }
   ],
   "source": [
    "#Point 5\n",
    "#dictionary doesn't allows duplicate key but duplicate values with different keys are allowed \n",
    "dict1 = {\n",
    "            \"A\" : \"Apple\",\n",
    "            \"D\" : \"Dell\",\n",
    "            \"H\" : \"HP\",\n",
    "            \"L\" : \"Lenovo\",\n",
    "            \"M\" : \"Microsoft\",\n",
    "            \"A\" : \"Asus\",\n",
    "\n",
    "        }\n",
    "\n",
    "#Only the latest value for corresponding key will be taken if there is any duplicate key\n",
    "print(dict1)\n"
   ]
  },
  {
   "cell_type": "code",
   "execution_count": 64,
   "metadata": {},
   "outputs": [
    {
     "name": "stdout",
     "output_type": "stream",
     "text": [
      "{'A': 'Asus', 'D': 'Samsung', 'H': 'HP'}\n"
     ]
    }
   ],
   "source": [
    "dict1 = {\n",
    "            \"A\" : \"Apple\",\n",
    "            \"D\" : \"Dell\",\n",
    "            \"H\" : \"HP\"\n",
    "        }\n",
    "\n",
    "\n",
    "dict2 = {\n",
    "            \"A\" : \"Asus\",\n",
    "            \"D\" : \"Samsung\",\n",
    "            \"H\" : \"HP\"\n",
    "        }\n",
    "\n",
    "dict1.update(dict2)\n",
    "print(dict1)"
   ]
  }
 ],
 "metadata": {
  "kernelspec": {
   "display_name": "Python 3.10.6 64-bit",
   "language": "python",
   "name": "python3"
  },
  "language_info": {
   "codemirror_mode": {
    "name": "ipython",
    "version": 3
   },
   "file_extension": ".py",
   "mimetype": "text/x-python",
   "name": "python",
   "nbconvert_exporter": "python",
   "pygments_lexer": "ipython3",
   "version": "3.10.6"
  },
  "orig_nbformat": 4,
  "vscode": {
   "interpreter": {
    "hash": "a912f55fab05c87cb1cd04c2481425fcfa639c2a43819b922954b685e4a5e63c"
   }
  }
 },
 "nbformat": 4,
 "nbformat_minor": 2
}
