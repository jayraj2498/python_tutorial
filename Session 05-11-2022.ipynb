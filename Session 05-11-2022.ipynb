{
 "cells": [
  {
   "cell_type": "markdown",
   "metadata": {},
   "source": [
    "Nested if - if...else inside another if...else"
   ]
  },
  {
   "cell_type": "code",
   "execution_count": 9,
   "metadata": {},
   "outputs": [
    {
     "name": "stdout",
     "output_type": "stream",
     "text": [
      "You have entered 30\n",
      "You are inside outer if\n",
      "You are inside inner if\n",
      "30 is divisible by 15\n"
     ]
    }
   ],
   "source": [
    "num = int(input(\"Enter a number: \"))\n",
    "#18\n",
    "print(f\"You have entered {num}\")\n",
    "if(num % 3 == 0): #outer if\n",
    "    print(\"You are inside outer if\")\n",
    "    if(num % 5 == 0): #inner if\n",
    "        print(\"You are inside inner if\")\n",
    "        print(f\"{num} is divisible by 15\")\n",
    "\n",
    "    else: #this inner else is of inner if\n",
    "        print(\"You are inside inner else\")\n",
    "        print(f\"{num} is not divisible by 15\")\n",
    "\n",
    "else:  #this outer else is of outer if\n",
    "    print(\"You are inside outer else\")\n",
    "    print(f\"{num} is not divisible by 15\")\n"
   ]
  },
  {
   "cell_type": "markdown",
   "metadata": {},
   "source": [
    "Loops - are used to repeat a set of code or block of codes n number of times or till the time a condition is met"
   ]
  },
  {
   "cell_type": "markdown",
   "metadata": {},
   "source": [
    "1. For loop - this loop is used when we know the number of times a set of code is going to be repeated, which means this is based on a number\n",
    "2. While loop - this loop is used when we don't know the number of times a set of code is going to be repeated, which means this is based on a condition"
   ]
  },
  {
   "cell_type": "code",
   "execution_count": 10,
   "metadata": {},
   "outputs": [],
   "source": [
    "#for item in iterator:\n",
    "#   block of code"
   ]
  },
  {
   "cell_type": "markdown",
   "metadata": {},
   "source": [
    "Iterator - this is an object that contains number of values which can be counted like list, set, tuple, dictionary, string "
   ]
  },
  {
   "cell_type": "code",
   "execution_count": 22,
   "metadata": {},
   "outputs": [
    {
     "name": "stdout",
     "output_type": "stream",
     "text": [
      "{'Apple', 'Banana', 'Cherry', 'Mango'}\n",
      "Apple\n",
      "Banana\n",
      "Cherry\n",
      "Mango\n"
     ]
    }
   ],
   "source": [
    "set1 = { \"Apple\", \"Banana\", \"Mango\", \"Cherry\", \"Cherry\" }\n",
    "print(set1)\n",
    "for u in set1:\n",
    "    print(u)\n"
   ]
  },
  {
   "cell_type": "code",
   "execution_count": 26,
   "metadata": {},
   "outputs": [
    {
     "name": "stdout",
     "output_type": "stream",
     "text": [
      "H\n",
      "o\n",
      "n\n",
      "d\n",
      "a\n"
     ]
    }
   ],
   "source": [
    "#Looping through strings\n",
    "\n",
    "for i in \"Honda\":\n",
    "    print(i)"
   ]
  },
  {
   "cell_type": "markdown",
   "metadata": {},
   "source": [
    "break and continue statement"
   ]
  },
  {
   "cell_type": "code",
   "execution_count": 35,
   "metadata": {},
   "outputs": [
    {
     "name": "stdout",
     "output_type": "stream",
     "text": [
      "['Honda', 'Tata', 'Mahindra', 'Force', 'Hyundai', 'Audi', 'BMW']\n",
      "Honda\n",
      "Tata\n",
      "Mahindra\n",
      "Force\n",
      "We found your car\n"
     ]
    }
   ],
   "source": [
    "#break statement is used to terminate the loop based on some condition\n",
    "list1 = [ \"Honda\", \"Tata\", \"Mahindra\", \"Force\", \"Hyundai\", \"Audi\", \"BMW\" ]\n",
    "print(list1)\n",
    "for car in list1:\n",
    "    print(car)\n",
    "    if(car == \"Force\"):\n",
    "        print(\"We found your car\")\n",
    "        break #this break is a part of if block and will be terminating the loop \n",
    "            #as soon as the if statement condition is met\n"
   ]
  },
  {
   "cell_type": "code",
   "execution_count": 36,
   "metadata": {},
   "outputs": [
    {
     "name": "stdout",
     "output_type": "stream",
     "text": [
      "['Honda', 'Tata', 'Mahindra', 'Force']\n",
      "Honda\n",
      "Tata\n",
      "Mahindra\n",
      "Force\n",
      "Loop terminated without break statement\n"
     ]
    }
   ],
   "source": [
    "#for..else\n",
    "list1 = [ \"Honda\", \"Tata\", \"Mahindra\", \"Force\" ]\n",
    "print(list1)\n",
    "for car in list1:\n",
    "    print(car)\n",
    "    if(car == \"Audi\"):\n",
    "        print(\"We found your car\")\n",
    "        break\n",
    "\n",
    "else: #this else is a part of for loop not if, \n",
    "    #it will be executed when for loop terminates normally i.e., without break statement \n",
    "    # #i.e., the if condition is not met and break statement is not executed\n",
    "    print(\"Loop terminated without break statement\")\n"
   ]
  },
  {
   "cell_type": "code",
   "execution_count": 43,
   "metadata": {},
   "outputs": [
    {
     "name": "stdout",
     "output_type": "stream",
     "text": [
      "['Honda', 'Tata', 'Mahindra', 'Force', 'Hyundai', 'Audi', 'BMW']\n",
      "Honda\n",
      "Tata\n",
      "Mahindra\n",
      "Hyundai\n",
      "Audi\n",
      "BMW\n"
     ]
    }
   ],
   "source": [
    "#continue statement is used to skip the part of loop based on some condition\n",
    "list1 = [ \"Honda\", \"Tata\", \"Mahindra\", \"Force\", \"Hyundai\", \"Audi\", \"BMW\" ]\n",
    "print(list1)\n",
    "for car in list1:\n",
    "    \n",
    "    if(car == \"Force\"):\n",
    "        print(\"We found your car skipping your car\")\n",
    "        continue #this continue is a part of if block and will be skip the loop \n",
    "            #as soon as the if statement condition is met\n",
    "\n",
    "    print(car) #this is a part of for loop not if"
   ]
  },
  {
   "cell_type": "markdown",
   "metadata": {},
   "source": [
    "range()\n",
    "1. range(starting value, ending value, stepping value)\n",
    "2. Starting value - from which number you want to start if no number is given by default it is 0\n",
    "3. ending value - at what value you want to end, the ending point is num-1 i.e., if end point is 16 it will end at 15\n",
    "4. Stepping value - how many steps you want to skip"
   ]
  },
  {
   "cell_type": "code",
   "execution_count": 48,
   "metadata": {},
   "outputs": [
    {
     "name": "stdout",
     "output_type": "stream",
     "text": [
      "0\n",
      "1\n",
      "2\n",
      "3\n",
      "4\n"
     ]
    }
   ],
   "source": [
    "#point 3\n",
    "for i in range(5): #here 5 is the last value which means the loop will take last value as 4\n",
    "    #and starting value will be 0 since no value is specified \n",
    "    #this range(5) will store numbers -> 0, 1, 2, 3, 4 in  an imaginary bucket which \n",
    "    #will act as an iterator\n",
    "    print(i)"
   ]
  },
  {
   "cell_type": "code",
   "execution_count": 51,
   "metadata": {},
   "outputs": [
    {
     "name": "stdout",
     "output_type": "stream",
     "text": [
      "13\n",
      "14\n",
      "15\n",
      "16\n",
      "17\n",
      "18\n",
      "19\n"
     ]
    }
   ],
   "source": [
    "for i in range(13, 20): #here our starting value is 13 and stopping value is 20 - 1 i.e., 19\n",
    "    #so we will get numbers 13, 14, 15, 16, 17, 18, 19\n",
    "    print(i)"
   ]
  },
  {
   "cell_type": "code",
   "execution_count": 52,
   "metadata": {},
   "outputs": [
    {
     "name": "stdout",
     "output_type": "stream",
     "text": [
      "10\n",
      "12\n",
      "14\n",
      "16\n",
      "18\n"
     ]
    }
   ],
   "source": [
    "for i in range(10, 20, 2): #here our starting value is 10, stopping value is 20 - 1 i.e., 19\n",
    "    #and this will skip a number which means it will give alternate numbers\n",
    "    #so we will get numbers 10, 12, 14, 16, 18 \n",
    "    print(i)"
   ]
  },
  {
   "cell_type": "code",
   "execution_count": 55,
   "metadata": {},
   "outputs": [
    {
     "name": "stdout",
     "output_type": "stream",
     "text": [
      "4\n",
      "8\n",
      "12\n",
      "16\n",
      "20\n",
      "24\n",
      "28\n",
      "32\n",
      "36\n",
      "40\n",
      "44\n",
      "48\n",
      "52\n",
      "56\n",
      "60\n",
      "64\n",
      "68\n",
      "72\n",
      "76\n",
      "80\n",
      "84\n",
      "88\n",
      "92\n",
      "96\n",
      "100\n"
     ]
    }
   ],
   "source": [
    "# WAP to print the table of 4 from 4 to 100 using range method\n",
    "for i in range(4, 101, 4):\n",
    "    print(i)\n"
   ]
  }
 ],
 "metadata": {
  "kernelspec": {
   "display_name": "Python 3.10.8 64-bit",
   "language": "python",
   "name": "python3"
  },
  "language_info": {
   "codemirror_mode": {
    "name": "ipython",
    "version": 3
   },
   "file_extension": ".py",
   "mimetype": "text/x-python",
   "name": "python",
   "nbconvert_exporter": "python",
   "pygments_lexer": "ipython3",
   "version": "3.10.8"
  },
  "orig_nbformat": 4,
  "vscode": {
   "interpreter": {
    "hash": "590b180dab2cf1cf59e3c00b5a8264fd71429a2ca4746b38f592ec00d40d44a5"
   }
  }
 },
 "nbformat": 4,
 "nbformat_minor": 2
}
