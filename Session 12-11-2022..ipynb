{
 "cells": [
  {
   "cell_type": "markdown",
   "metadata": {},
   "source": [
    "Functions - \n",
    "1. It is a block of code that only executes when it is called.\n",
    "2. You can pass data(parameter) to a function\n",
    "3. This may return a result"
   ]
  },
  {
   "cell_type": "markdown",
   "metadata": {},
   "source": [
    "Eg - Vending Machine - \n",
    "1. This runs when you want it to\n",
    "2. You pass money to the machine\n",
    "3. You receive an item"
   ]
  },
  {
   "cell_type": "code",
   "execution_count": 6,
   "metadata": {},
   "outputs": [],
   "source": [
    "#How to define a function\n",
    "#syntax\n",
    "\n",
    "#def function_name(parameter): if no parameters are there use empty brackets\n",
    "#   block of code\n"
   ]
  },
  {
   "cell_type": "code",
   "execution_count": 3,
   "metadata": {},
   "outputs": [],
   "source": [
    "def vending_machine(): #function name can be any name except for a keyword name\n",
    "    #inside the function block\n",
    "    print(\"You are using a Vending Machine\")\n",
    "    print(\"Coming out of function\")\n",
    "    \n",
    "#Outside the function block \n"
   ]
  },
  {
   "cell_type": "markdown",
   "metadata": {},
   "source": [
    "You will not get any output after defining a function untill you call the same"
   ]
  },
  {
   "cell_type": "code",
   "execution_count": 7,
   "metadata": {},
   "outputs": [
    {
     "name": "stdout",
     "output_type": "stream",
     "text": [
      "You are using a Vending Machine\n",
      "Coming out of function\n"
     ]
    }
   ],
   "source": [
    "#Calling a function\n",
    "#syntax- \n",
    "#function_name(arguments) if no arguments are there use empty brackets\n",
    "\n",
    "vending_machine()"
   ]
  },
  {
   "cell_type": "code",
   "execution_count": 8,
   "metadata": {},
   "outputs": [
    {
     "name": "stdout",
     "output_type": "stream",
     "text": [
      "You are using a Vending Machine\n",
      "Coming out of function\n"
     ]
    }
   ],
   "source": [
    "def vending_machine():\n",
    "    print(\"You are using a Vending Machine\")\n",
    "    print(\"Coming out of function\")\n",
    "\n",
    "vending_machine()"
   ]
  },
  {
   "cell_type": "markdown",
   "metadata": {},
   "source": [
    "Types of functions - \n",
    "1. No Parameter no return statement\n",
    "2. No Parameter but a return statement\n",
    "3. Parameter but no return statement\n",
    "4. Parameter and a return statement"
   ]
  },
  {
   "cell_type": "code",
   "execution_count": 9,
   "metadata": {},
   "outputs": [
    {
     "name": "stdout",
     "output_type": "stream",
     "text": [
      "You are using a Vending Machine\n",
      "Coming out of function\n"
     ]
    }
   ],
   "source": [
    "#point 1\n",
    "def vending_machine(): #no parameters\n",
    "    print(\"You are using a Vending Machine\")\n",
    "    print(\"Coming out of function\")\n",
    "    #no return \n",
    "vending_machine()"
   ]
  },
  {
   "cell_type": "code",
   "execution_count": 13,
   "metadata": {},
   "outputs": [
    {
     "name": "stdout",
     "output_type": "stream",
     "text": [
      "You are using a Vending Machine\n"
     ]
    },
    {
     "data": {
      "text/plain": [
       "'Can of Coke'"
      ]
     },
     "execution_count": 13,
     "metadata": {},
     "output_type": "execute_result"
    }
   ],
   "source": [
    "#point 2\n",
    "def vending_machine():\n",
    "    print(\"You are using a Vending Machine\")\n",
    "    \n",
    "    #return can be a single statement or one variable or one number you cannot return multiple\n",
    "    #statements or variables or numbers which is a logical error for some scenarios\n",
    "\n",
    "    var1 = \"Can of Coke\"\n",
    "    return var1\n",
    "\n",
    "vending_machine()"
   ]
  },
  {
   "cell_type": "markdown",
   "metadata": {},
   "source": [
    "1. Parameter - are used to hold the values passed on to the function when they are called\n",
    "2. Arguments - are the values that are passed on to the function while calling the same"
   ]
  },
  {
   "cell_type": "code",
   "execution_count": 16,
   "metadata": {},
   "outputs": [
    {
     "name": "stdout",
     "output_type": "stream",
     "text": [
      "You are inside vending machine function\n",
      "You have selected Coca Cola \n"
     ]
    }
   ],
   "source": [
    "#point 3 . Parameter but no return statement\n",
    "\n",
    "\n",
    "def vending_machine(item): #here item is a parameter that will hold the value passed by argument\n",
    "    #to the function\n",
    "    print(\"You are inside vending machine function\")\n",
    "    print(f\"You have selected {item} \")\n",
    "\n",
    "\n",
    "vending_machine(\"Coca Cola\") #here \"Coca Cola\" is an argument"
   ]
  },
  {
   "cell_type": "code",
   "execution_count": 25,
   "metadata": {},
   "outputs": [
    {
     "name": "stdout",
     "output_type": "stream",
     "text": [
      "You are inside vending machine\n",
      "Aman Singh\n"
     ]
    }
   ],
   "source": [
    "#Point 4      Parameter and a return statement\n",
    "\n",
    "\n",
    "def vending_machine(fname, lname):\n",
    "    print(\"You are inside vending machine\")\n",
    "    full_name = fname + \" \" + lname \n",
    "    return full_name\n",
    "\n",
    "first_name = input(\"Enter your first name: \")\n",
    "last_name = input(\"Enter your last name: \")\n",
    "name = vending_machine(first_name, last_name)\n",
    "print(name)"
   ]
  },
  {
   "cell_type": "code",
   "execution_count": 23,
   "metadata": {},
   "outputs": [],
   "source": [
    "#WAP to create a function that will calculate simple interest based on principal amount, \n",
    "# rate of interest and time period taken from user and passing it to the function and then \n",
    "# return the simple interest and print it"
   ]
  },
  {
   "cell_type": "code",
   "execution_count": 28,
   "metadata": {},
   "outputs": [
    {
     "name": "stdout",
     "output_type": "stream",
     "text": [
      "Simple interest on a principal amount of- 10000.0 for 5.0 years on 10.5% roi is -> 5250.0\n"
     ]
    }
   ],
   "source": [
    "def simple_interest(principal, roi, time):\n",
    "    si = ( principal * roi * time ) / 100\n",
    "    return si\n",
    "\n",
    "principal = float(input(\"Enter the principal amount: \"))\n",
    "roi = float(input(\"Enter the Rate of interest: \"))\n",
    "time = float(input(\"Enter the time period: \"))\n",
    "\n",
    "si = simple_interest(principal, roi, time)\n",
    "print(f\"Simple interest on a principal amount of- {principal} for {time} years on {roi}% roi is -> {si}\")"
   ]
  },
  {
   "cell_type": "markdown",
   "metadata": {},
   "source": [
    "Arbitary Arguments - are used to receive n number of inputs in a single parameter"
   ]
  },
  {
   "cell_type": "code",
   "execution_count": 39,
   "metadata": {},
   "outputs": [
    {
     "name": "stdout",
     "output_type": "stream",
     "text": [
      "('Abhi', 'Aditya', 'Aman')\n",
      "<class 'tuple'>\n"
     ]
    }
   ],
   "source": [
    "def func(*arg): #here *arg is an arbitary argument\n",
    "\n",
    "    print(arg) #this arg is a paramter that will hold values in a tuple\n",
    "    print(type(arg))\n",
    "\n",
    "func(\"Abhi\", \"Aditya\", \"Aman\")"
   ]
  },
  {
   "cell_type": "code",
   "execution_count": 41,
   "metadata": {},
   "outputs": [
    {
     "name": "stdout",
     "output_type": "stream",
     "text": [
      "Abhi\n",
      "Aditya\n",
      "Aman\n"
     ]
    }
   ],
   "source": [
    "def func(*arg): #here *arg is an arbitary argument\n",
    "\n",
    "    for i in arg: #here arg is iterable being a tuple\n",
    "        print(i)\n",
    "\n",
    "func(\"Abhi\", \"Aditya\", \"Aman\")"
   ]
  },
  {
   "cell_type": "markdown",
   "metadata": {},
   "source": [
    "Keyword Arguments"
   ]
  },
  {
   "cell_type": "code",
   "execution_count": 48,
   "metadata": {},
   "outputs": [
    {
     "name": "stdout",
     "output_type": "stream",
     "text": [
      "Name -> Aman\n",
      "Designation -> Developer\n",
      "Age -> 22\n",
      "\n",
      "Name -> 22\n",
      "Designation -> Aman\n",
      "Age -> Developer\n"
     ]
    }
   ],
   "source": [
    "def func(name, age, designation):\n",
    "    print(f\"Name -> {name}\")\n",
    "    print(f\"Designation -> {designation}\")\n",
    "    print(f\"Age -> {age}\")\n",
    "\n",
    "func(age = 22, designation= \"Developer\", name = \"Aman\")\n",
    "print()\n",
    "func(22, \"Developer\", \"Aman\") "
   ]
  },
  {
   "cell_type": "markdown",
   "metadata": {},
   "source": [
    "Default parameters - are used when we want to initialize the parameters with a default value so in case if no argument is passed it should not throw any error"
   ]
  },
  {
   "cell_type": "code",
   "execution_count": 67,
   "metadata": {},
   "outputs": [
    {
     "name": "stdout",
     "output_type": "stream",
     "text": [
      "Name -> Aman\n",
      "Designation -> Developer\n",
      "Age -> 22\n",
      "\n",
      "Name -> Ankit\n",
      "Designation -> Manager\n",
      "Age -> 35\n",
      "\n",
      "Name -> Anuj\n",
      "Designation -> Designer\n",
      "Age -> 23\n",
      "\n",
      "Name -> Aman\n",
      "Designation -> Developer\n",
      "Age -> 22\n"
     ]
    }
   ],
   "source": [
    "def func(name = \"Aman\", age = 22, designation = \"Developer\"):\n",
    "    print(f\"Name -> {name}\")\n",
    "    print(f\"Designation -> {designation}\")\n",
    "    print(f\"Age -> {age}\")\n",
    "\n",
    "func() #this will print the default values of the function as no argument is been passed\n",
    "print()\n",
    "func(\"Ankit\", 35, \"Manager\") #this will print the values passed to the function\n",
    "print()\n",
    "func(\"Anuj\", 23, \"Designer\")\n",
    "print()\n",
    "func()"
   ]
  },
  {
   "cell_type": "code",
   "execution_count": 68,
   "metadata": {},
   "outputs": [
    {
     "name": "stdout",
     "output_type": "stream",
     "text": [
      "Apple\n",
      "Banana\n",
      "Mango\n",
      "Cherry\n",
      "Pineapple\n"
     ]
    }
   ],
   "source": [
    "#WAP to pass a list to the function and print it's item in the function\n",
    "#List will have only 5 items\n",
    "\n",
    "\n",
    "def func(list1):\n",
    "    for i in list1:\n",
    "        print(i)\n",
    "\n",
    "list1 = [ \"Apple\", \"Banana\", \"Mango\", \"Cherry\", \"Pineapple\" ]\n",
    "\n",
    "func(list1)"
   ]
  }
 ],
 "metadata": {
  "kernelspec": {
   "display_name": "Python 3.10.6 64-bit",
   "language": "python",
   "name": "python3"
  },
  "language_info": {
   "codemirror_mode": {
    "name": "ipython",
    "version": 3
   },
   "file_extension": ".py",
   "mimetype": "text/x-python",
   "name": "python",
   "nbconvert_exporter": "python",
   "pygments_lexer": "ipython3",
   "version": "3.10.6"
  },
  "orig_nbformat": 4,
  "vscode": {
   "interpreter": {
    "hash": "a912f55fab05c87cb1cd04c2481425fcfa639c2a43819b922954b685e4a5e63c"
   }
  }
 },
 "nbformat": 4,
 "nbformat_minor": 2
}
