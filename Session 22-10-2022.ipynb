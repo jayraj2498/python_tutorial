{
 "cells": [
  {
   "cell_type": "markdown",
   "metadata": {},
   "source": [
    "Split the list"
   ]
  },
  {
   "cell_type": "code",
   "execution_count": 1,
   "metadata": {},
   "outputs": [
    {
     "data": {
      "text/plain": [
       "['Hello', 'World', 'How', 'are', 'you?']"
      ]
     },
     "execution_count": 1,
     "metadata": {},
     "output_type": "execute_result"
    }
   ],
   "source": [
    "str1 = \"Hello World How are you?\"\n",
    "# \"Hello\", \"World\", \"How\", \"are\", \"you?\"\n",
    "\n",
    "str1.split() #by default if no separator paramter is passed then the list will get split from spaces"
   ]
  },
  {
   "cell_type": "code",
   "execution_count": 6,
   "metadata": {},
   "outputs": [
    {
     "data": {
      "text/plain": [
       "['Aman', 'Developer', '50000', '24']"
      ]
     },
     "execution_count": 6,
     "metadata": {},
     "output_type": "execute_result"
    }
   ],
   "source": [
    "str1 = \"Aman,Developer,50000,24\"\n",
    "\n",
    "str1.split(\",\")"
   ]
  },
  {
   "cell_type": "code",
   "execution_count": 25,
   "metadata": {},
   "outputs": [],
   "source": [
    "num1 = input(\"Enter the two numbers\").split()"
   ]
  },
  {
   "cell_type": "code",
   "execution_count": 26,
   "metadata": {},
   "outputs": [
    {
     "data": {
      "text/plain": [
       "['85', '96']"
      ]
     },
     "execution_count": 26,
     "metadata": {},
     "output_type": "execute_result"
    }
   ],
   "source": [
    "num1"
   ]
  },
  {
   "cell_type": "markdown",
   "metadata": {},
   "source": [
    "Arrays - a collection of items having same datatype"
   ]
  },
  {
   "cell_type": "markdown",
   "metadata": {},
   "source": [
    "1. Lists - is one of the 4 bulit in dataypes that is used to store multiple items in a single variable or used to store collection of data\n",
    "2. List can store any type of data in it or mixed datatypes as well\n",
    "3. List is ordered.\n",
    "4. List is mutable i.e., we can manipulate the items in the list\n",
    "5. List allows duplicate items in it"
   ]
  },
  {
   "cell_type": "code",
   "execution_count": 34,
   "metadata": {},
   "outputs": [
    {
     "data": {
      "text/plain": [
       "'Apple'"
      ]
     },
     "execution_count": 34,
     "metadata": {},
     "output_type": "execute_result"
    }
   ],
   "source": [
    "#Point 1\n",
    "fruits = [ \"Apple\", \"Banana\", \"Mango\" ]\n",
    "\n",
    "#Point 2\n",
    "int_list = [ 1, 2, 3, 4, 5, 6 ]\n",
    "float_list = [ 12.5, 2.5, 5.7, 6.9, 6.3 ]\n",
    "list_list = [ \"Apple\", \"Banana\", \"Mango\" ]\n",
    "mixed_list = [ 1, 3, 5, 6.7, 8.9, 9.1, \"Mango\", \"Banana\", True ]\n",
    "\n",
    "#Point 3\n",
    "ord_list = [ 6, 7, 2, \"Apple\", \"Banana\" ]\n",
    "\n",
    "\n"
   ]
  },
  {
   "cell_type": "code",
   "execution_count": 35,
   "metadata": {},
   "outputs": [
    {
     "name": "stdout",
     "output_type": "stream",
     "text": [
      "List before manipulation = ['Apple', 'Banana', 'Mango']\n",
      "List after manipulation = ['Cherry', 'Banana', 'Mango']\n"
     ]
    }
   ],
   "source": [
    "#Point 4\n",
    "list_list = [ \"Apple\", \"Banana\", \"Mango\" ]\n",
    "\n",
    "print(f\"List before manipulation = {list_list}\")\n",
    "list_list[0] = \"Cherry\" #this means item at index 0 will be replaced with Cherry\n",
    "\n",
    "print(f\"List after manipulation = {list_list}\")"
   ]
  },
  {
   "cell_type": "code",
   "execution_count": 36,
   "metadata": {},
   "outputs": [
    {
     "data": {
      "text/plain": [
       "['Apple', 'Banana', 'Mango', 'Apple', 'Apple']"
      ]
     },
     "execution_count": 36,
     "metadata": {},
     "output_type": "execute_result"
    }
   ],
   "source": [
    "#Point 5\n",
    "list_list = [ \"Apple\", \"Banana\", \"Mango\", \"Apple\", \"Apple\" ]\n",
    "list_list"
   ]
  },
  {
   "cell_type": "markdown",
   "metadata": {},
   "source": [
    "List Slicing/Indexing"
   ]
  },
  {
   "cell_type": "code",
   "execution_count": 39,
   "metadata": {},
   "outputs": [
    {
     "name": "stdout",
     "output_type": "stream",
     "text": [
      "Apple\n",
      "Peach\n",
      "Kiwi\n",
      "Strawberry\n",
      "['Peach', 'Watermelon', 'Muskmelon', 'Orange']\n",
      "['Orange', 'Strawberry', 'Pineapple', 'Pomegranate', 'Grape']\n",
      "['Watermelon', 'Muskmelon', 'Orange', 'Strawberry', 'Pineapple', 'Pomegranate', 'Grape', 'Kiwi']\n",
      "['Apple', 'Banana', 'Mango', 'Cherry', 'Peach', 'Watermelon', 'Muskmelon', 'Orange', 'Strawberry']\n",
      "['Strawberry', 'Pineapple', 'Pomegranate']\n",
      "['Kiwi', 'Grape', 'Pomegranate', 'Pineapple', 'Strawberry', 'Orange', 'Muskmelon', 'Watermelon', 'Peach', 'Cherry', 'Mango', 'Banana', 'Apple']\n"
     ]
    }
   ],
   "source": [
    "list1 = [ \"Apple\", \"Banana\", \"Mango\", \"Cherry\", \"Peach\", \n",
    "        \"Watermelon\", \"Muskmelon\", \"Orange\", \"Strawberry\", \n",
    "        \"Pineapple\", \"Pomegranate\", \"Grape\", \"Kiwi\" ]\n",
    "\n",
    "#indexing starts from 0 i.e., the element at position 1 will have index 0 and element at position n will have index n-1\n",
    "#indexing starts from 0 i.e., the element at index 0 will have position 1 and element at index n will have position n+1\n",
    "#space is also a item\n",
    "print( list1[0] ) #this will give the first item of the list\n",
    "print( list1[4] ) #this will give the 5th item of the list \n",
    "print( list1[-1] ) #this will give the last item of the list\n",
    "print( list1[-5] ) #this will give the 5th last item of the list\n",
    "\n",
    "#Slicing\n",
    "print( list1[4:8] ) #this will print all the items between starting index i.e., 4 & end index - 1 i.e., 7, which means\n",
    "#items at index 4, 5, 6, 7 will be printed \n",
    "print( list1[7:12] ) #this will print all the items at index 7, 8, 9, 10, 11\n",
    "print( list1[5:] ) #this will print all the items from index 5 to end index\n",
    "print( list1[:9] ) #this will print all the items from starting index to 8\n",
    "print( list1[-5:-2] )#this will print item from last 5th position till last 3rd position i.e., \n",
    "#you'll get items from -5, -4, -3\n",
    "print( list1[::-1] ) #this will reverse the list"
   ]
  },
  {
   "cell_type": "markdown",
   "metadata": {},
   "source": [
    "Functions in list"
   ]
  },
  {
   "cell_type": "code",
   "execution_count": 47,
   "metadata": {},
   "outputs": [
    {
     "data": {
      "text/plain": [
       "['Apple', 'Banana', 'Mango', 'Cherry', 'Peach', 'Kiwi']"
      ]
     },
     "execution_count": 47,
     "metadata": {},
     "output_type": "execute_result"
    }
   ],
   "source": [
    "#Add a single item in a list at end\n",
    "list1 = [ \"Apple\", \"Banana\", \"Mango\", \"Cherry\", \"Peach\"]\n",
    "list1.append(\"Kiwi\")\n",
    "list1\n"
   ]
  },
  {
   "cell_type": "code",
   "execution_count": 41,
   "metadata": {},
   "outputs": [
    {
     "data": {
      "text/plain": [
       "['Apple', 'Banana', 'Mango', 'Cherry', 'Peach', 'Kiwi', 'Orange', 'Grapes']"
      ]
     },
     "execution_count": 41,
     "metadata": {},
     "output_type": "execute_result"
    }
   ],
   "source": [
    "#Add a multiple item in a list at end\n",
    "list1 = [ \"Apple\", \"Banana\", \"Mango\", \"Cherry\", \"Peach\"]\n",
    "list2 = [ \"Kiwi\", \"Orange\", \"Grapes\" ]\n",
    "list1.extend(list2)\n",
    "\n",
    "list1"
   ]
  },
  {
   "cell_type": "code",
   "execution_count": 51,
   "metadata": {},
   "outputs": [
    {
     "data": {
      "text/plain": [
       "['Apple', 'Banana', 'Mango', 'Kiwi', 'Cherry', 'Peach']"
      ]
     },
     "execution_count": 51,
     "metadata": {},
     "output_type": "execute_result"
    }
   ],
   "source": [
    "#Add a single item anywhere in a list \n",
    "list1 = [ \"Apple\", \"Banana\", \"Mango\", \"Cherry\", \"Peach\"]\n",
    "list1.insert(3, \"Kiwi\")\n",
    "list1"
   ]
  },
  {
   "cell_type": "code",
   "execution_count": 45,
   "metadata": {},
   "outputs": [
    {
     "data": {
      "text/plain": [
       "3"
      ]
     },
     "execution_count": 45,
     "metadata": {},
     "output_type": "execute_result"
    }
   ],
   "source": [
    "#Count the number of occurences of a value/item\n",
    "\n",
    "list1 = [ \"Apple\", \"Banana\", \"Mango\", \"Apple\", \"Apple\"]\n",
    "list1.count(\"Apple\")"
   ]
  },
  {
   "cell_type": "code",
   "execution_count": 50,
   "metadata": {},
   "outputs": [
    {
     "data": {
      "text/plain": [
       "3"
      ]
     },
     "execution_count": 50,
     "metadata": {},
     "output_type": "execute_result"
    }
   ],
   "source": [
    "#Find the first index of an item\n",
    "\n",
    "list1 = [ \"Apple\", \"Banana\", \"Mango\", \"Cherry\", \"Peach\"]\n",
    "list1.index( \"Cherry\" )"
   ]
  },
  {
   "cell_type": "code",
   "execution_count": 55,
   "metadata": {},
   "outputs": [
    {
     "name": "stdout",
     "output_type": "stream",
     "text": [
      "['Apple', 'Banana', 'Cherry', 'Peach']\n"
     ]
    }
   ],
   "source": [
    "#To delete an element from a specific index\n",
    "\n",
    "list1 = [ \"Apple\", \"Banana\", \"Mango\", \"Cherry\", \"Peach\"]\n",
    "\n",
    "list1.pop(2) #if no index is mentioned then last element will be removed\n",
    "print(list1)"
   ]
  },
  {
   "cell_type": "code",
   "execution_count": 56,
   "metadata": {},
   "outputs": [
    {
     "data": {
      "text/plain": [
       "['Banana', 'Mango', 'Cherry', 'Peach']"
      ]
     },
     "execution_count": 56,
     "metadata": {},
     "output_type": "execute_result"
    }
   ],
   "source": [
    "#To delete a specific item from a list when that item is present only one time\n",
    "\n",
    "list1 = [ \"Apple\", \"Banana\", \"Mango\", \"Cherry\", \"Peach\"]\n",
    "\n",
    "list1.remove(\"Apple\")\n",
    "list1"
   ]
  },
  {
   "cell_type": "code",
   "execution_count": 58,
   "metadata": {},
   "outputs": [
    {
     "data": {
      "text/plain": [
       "['Banana', 'Mango', 'Cherry', 'Apple']"
      ]
     },
     "execution_count": 58,
     "metadata": {},
     "output_type": "execute_result"
    }
   ],
   "source": [
    "#To delete a specific item from a list when that item is present multiple times\n",
    "\n",
    "list1 = [ \"Apple\", \"Banana\", \"Mango\", \"Cherry\", \"Apple\"] \n",
    "\n",
    "list1.remove(\"Apple\") #this will remove the first occurence only\n",
    "list1"
   ]
  },
  {
   "cell_type": "code",
   "execution_count": 59,
   "metadata": {},
   "outputs": [
    {
     "data": {
      "text/plain": [
       "5"
      ]
     },
     "execution_count": 59,
     "metadata": {},
     "output_type": "execute_result"
    }
   ],
   "source": [
    "#to find the number of items in a list\n",
    "\n",
    "list1 = [ \"Apple\", \"Banana\", \"Mango\", \"Cherry\", \"Apple\"] \n",
    "\n",
    "len(list1)"
   ]
  },
  {
   "cell_type": "code",
   "execution_count": 62,
   "metadata": {},
   "outputs": [
    {
     "data": {
      "text/plain": [
       "1"
      ]
     },
     "execution_count": 62,
     "metadata": {},
     "output_type": "execute_result"
    }
   ],
   "source": [
    "#Following functions are specific to numerical list\n",
    "\n",
    "list1 = [ 1, 2, 3, 4, 5, 6, 7, 8 ]\n",
    "\n",
    "sum(list1) #this will return sum of all items in a list\n",
    "max(list1) #this will return maximum of all items in a list\n",
    "min(list1) #this will return minimum of all items in a list"
   ]
  },
  {
   "cell_type": "markdown",
   "metadata": {},
   "source": [
    "Tuple"
   ]
  },
  {
   "cell_type": "markdown",
   "metadata": {},
   "source": [
    "1. Tuple - is one of the 4 bulit in dataypes that is used to store multiple items in a single variable or used to store collection of data\n",
    "2. Tuple can store any type of data in it or mixed datatypes as well\n",
    "3. Tuple is ordered.\n",
    "4. Tuple is immutable i.e., we can't manipulate the items in the Tuple once declared\n",
    "5. Tuple allows duplicate items in it"
   ]
  },
  {
   "cell_type": "code",
   "execution_count": 68,
   "metadata": {},
   "outputs": [
    {
     "data": {
      "text/plain": [
       "['Apple', 'Banana', 'Mango', 'Apple', 'Apple']"
      ]
     },
     "execution_count": 68,
     "metadata": {},
     "output_type": "execute_result"
    }
   ],
   "source": [
    "#these points are common to both list and tuple\n",
    "\n",
    "#Point 1\n",
    "fruits = ( \"Apple\", \"Banana\", \"Mango\" )\n",
    "\n",
    "#Point 2\n",
    "int_tuple = ( 1, 2, 3, 4, 5, 6 )\n",
    "float_tuple = ( 12.5, 2.5, 5.7, 6.9, 6.3 )\n",
    "list_tuple = ( \"Apple\", \"Banana\", \"Mango\" )\n",
    "mixed_tuple = ( 1, 3, 5, 6.7, 8.9, 9.1, \"Mango\", \"Banana\", True )\n",
    "\n",
    "#Point 3\n",
    "ord_tuple = ( 6, 7, 2, \"Apple\", \"Banana\" )\n",
    "\n",
    "#Point 5\n",
    "tuple1 = [ \"Apple\", \"Banana\", \"Mango\", \"Apple\", \"Apple\" ]\n",
    "tuple1"
   ]
  },
  {
   "cell_type": "code",
   "execution_count": 71,
   "metadata": {},
   "outputs": [
    {
     "data": {
      "text/plain": [
       "['Milk', 'Wheat Flour', 'Pulses', 'Cheese']"
      ]
     },
     "execution_count": 71,
     "metadata": {},
     "output_type": "execute_result"
    }
   ],
   "source": [
    "grocery = [ \"Milk\", \"Rice\", \"Pulses\", \"Cheese\" ]\n",
    "grocery[1] = \"Wheat Flour\"\n",
    "grocery"
   ]
  },
  {
   "cell_type": "code",
   "execution_count": 69,
   "metadata": {},
   "outputs": [
    {
     "name": "stdout",
     "output_type": "stream",
     "text": [
      "Tuple before manipulation = ('Apple', 'Banana', 'Mango')\n"
     ]
    },
    {
     "ename": "TypeError",
     "evalue": "'tuple' object does not support item assignment",
     "output_type": "error",
     "traceback": [
      "\u001b[1;31m---------------------------------------------------------------------------\u001b[0m",
      "\u001b[1;31mTypeError\u001b[0m                                 Traceback (most recent call last)",
      "Cell \u001b[1;32mIn [69], line 8\u001b[0m\n\u001b[0;32m      5\u001b[0m tuple1 \u001b[39m=\u001b[39m ( \u001b[39m\"\u001b[39m\u001b[39mApple\u001b[39m\u001b[39m\"\u001b[39m, \u001b[39m\"\u001b[39m\u001b[39mBanana\u001b[39m\u001b[39m\"\u001b[39m, \u001b[39m\"\u001b[39m\u001b[39mMango\u001b[39m\u001b[39m\"\u001b[39m )\n\u001b[0;32m      7\u001b[0m \u001b[39mprint\u001b[39m(\u001b[39mf\u001b[39m\u001b[39m\"\u001b[39m\u001b[39mTuple before manipulation = \u001b[39m\u001b[39m{\u001b[39;00mtuple1\u001b[39m}\u001b[39;00m\u001b[39m\"\u001b[39m)\n\u001b[1;32m----> 8\u001b[0m tuple1[\u001b[39m0\u001b[39;49m] \u001b[39m=\u001b[39m \u001b[39m\"\u001b[39m\u001b[39mCherry\u001b[39m\u001b[39m\"\u001b[39m  \u001b[39m#this will throw an error as we are trying to manipulate the tuple which is not possible\u001b[39;00m\n\u001b[0;32m     10\u001b[0m \u001b[39mprint\u001b[39m(\u001b[39mf\u001b[39m\u001b[39m\"\u001b[39m\u001b[39mTuple after manipulation = \u001b[39m\u001b[39m{\u001b[39;00mtuple1\u001b[39m}\u001b[39;00m\u001b[39m\"\u001b[39m)\n",
      "\u001b[1;31mTypeError\u001b[0m: 'tuple' object does not support item assignment"
     ]
    }
   ],
   "source": [
    "#The following point is not common to both list and tuple\n",
    "\n",
    "#Point 4\n",
    "tuple1 = ( \"Apple\", \"Banana\", \"Mango\" )\n",
    "\n",
    "print(f\"Tuple before manipulation = {tuple1}\")\n",
    "tuple1[0] = \"Cherry\"  #this will throw an error as we are trying to manipulate the tuple which is not possible\n",
    "\n",
    "print(f\"Tuple after manipulation = {tuple1}\")"
   ]
  },
  {
   "cell_type": "code",
   "execution_count": 73,
   "metadata": {},
   "outputs": [
    {
     "name": "stdout",
     "output_type": "stream",
     "text": [
      "Tuple before manipulation -> ('Apple', 'Banana', 'Mango') and type -> <class 'tuple'>\n",
      "Type of tuple1 in between the process -> <class 'list'>\n",
      "Tuple after manipulation -> ('Cherry', 'Banana', 'Mango') and type -> <class 'tuple'>\n"
     ]
    }
   ],
   "source": [
    "#manipulate the tuple\n",
    "\n",
    "tuple1 = ( \"Apple\", \"Banana\", \"Mango\" )\n",
    "\n",
    "print(f\"Tuple before manipulation -> {tuple1} and type -> {type(tuple1)}\")\n",
    "\n",
    "tuple1 = list( tuple1 ) #converting the tuple to list\n",
    "\n",
    "print(f\"Type of tuple1 in between the process -> {type(tuple1)}\")\n",
    "tuple1[0] = \"Cherry\"  #this will not throw an error as we are trying to manipulate the list instead of a tuple\n",
    "\n",
    "tuple1 = tuple(tuple1) #converting back the list to tuple\n",
    "\n",
    "print(f\"Tuple after manipulation -> {tuple1} and type -> {type(tuple1)}\")"
   ]
  },
  {
   "cell_type": "code",
   "execution_count": null,
   "metadata": {},
   "outputs": [],
   "source": []
  }
 ],
 "metadata": {
  "kernelspec": {
   "display_name": "Python 3.10.6 64-bit",
   "language": "python",
   "name": "python3"
  },
  "language_info": {
   "codemirror_mode": {
    "name": "ipython",
    "version": 3
   },
   "file_extension": ".py",
   "mimetype": "text/x-python",
   "name": "python",
   "nbconvert_exporter": "python",
   "pygments_lexer": "ipython3",
   "version": "3.10.6"
  },
  "orig_nbformat": 4,
  "vscode": {
   "interpreter": {
    "hash": "a912f55fab05c87cb1cd04c2481425fcfa639c2a43819b922954b685e4a5e63c"
   }
  }
 },
 "nbformat": 4,
 "nbformat_minor": 2
}
