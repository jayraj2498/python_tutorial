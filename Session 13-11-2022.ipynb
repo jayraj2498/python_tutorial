{
 "cells": [
  {
   "cell_type": "markdown",
   "metadata": {},
   "source": [
    "Local vs Global Variable"
   ]
  },
  {
   "cell_type": "code",
   "execution_count": 4,
   "metadata": {},
   "outputs": [
    {
     "name": "stdout",
     "output_type": "stream",
     "text": [
      "25\n",
      "You are inside vending machine\n",
      "Using Full_name variable inside function Aman Singh\n",
      "Using var1 variable inside function 25\n"
     ]
    },
    {
     "ename": "NameError",
     "evalue": "name 'full_name' is not defined",
     "output_type": "error",
     "traceback": [
      "\u001b[1;31m---------------------------------------------------------------------------\u001b[0m",
      "\u001b[1;31mNameError\u001b[0m                                 Traceback (most recent call last)",
      "Cell \u001b[1;32mIn [4], line 14\u001b[0m\n\u001b[0;32m     12\u001b[0m \u001b[39mprint\u001b[39m(var1)\n\u001b[0;32m     13\u001b[0m vending_machine()\n\u001b[1;32m---> 14\u001b[0m \u001b[39mprint\u001b[39m(\u001b[39mf\u001b[39m\u001b[39m\"\u001b[39m\u001b[39mUsing Full_name variable outside function \u001b[39m\u001b[39m{\u001b[39;00mfull_name\u001b[39m}\u001b[39;00m\u001b[39m\"\u001b[39m)\n",
      "\u001b[1;31mNameError\u001b[0m: name 'full_name' is not defined"
     ]
    }
   ],
   "source": [
    "def vending_machine():\n",
    "    print(\"You are inside vending machine\")\n",
    "    full_name = \"Aman Singh\" #here this full_name variable is a local variable i.e.,\n",
    "    #you cannot use this variable to print it outside the function block\n",
    "    print(f\"Using Full_name variable inside function {full_name}\")\n",
    "    print(f\"Using var1 variable inside function {var1}\")\n",
    "\n",
    "var1 = 25 #here this var1 variable is a global variable i.e.,\n",
    "    #you can use this variable to print it outside the function block as well as inside\n",
    "print(var1)\n",
    "vending_machine()\n",
    "print( f\"Using Full_name variable outside function {full_name}\" )"
   ]
  },
  {
   "cell_type": "markdown",
   "metadata": {},
   "source": [
    "Class and Objects \n",
    "1. Classes are blueprint for creating an object\n",
    "2. Class is a prototype from which objects are created\n",
    "3. Object is an instance of a class\n",
    "4. Instance is a copy of the class with real values"
   ]
  },
  {
   "cell_type": "markdown",
   "metadata": {},
   "source": [
    "Car - \n",
    "1. Wheel\n",
    "2. Engine\n",
    "3. Steering\n",
    "4. Body\n",
    "5. Brake"
   ]
  },
  {
   "cell_type": "markdown",
   "metadata": {},
   "source": [
    "Car Model - \n",
    "1. Mahindra Thar\n",
    "2. MG Hector\n",
    "3. Tata Tiago"
   ]
  },
  {
   "cell_type": "markdown",
   "metadata": {},
   "source": [
    "Object consists of - State, Behaviour, Identity"
   ]
  },
  {
   "cell_type": "markdown",
   "metadata": {},
   "source": [
    "1. State(Attributes) - Color of the car, Year of Manf, etc.\n",
    "2. Behaviour(Methods) - Different modes in a car like sports, traffic, etc.\n",
    "3. Identity(name of object) - Name of the car "
   ]
  },
  {
   "cell_type": "markdown",
   "metadata": {},
   "source": [
    "Defining a class"
   ]
  },
  {
   "cell_type": "code",
   "execution_count": 22,
   "metadata": {},
   "outputs": [],
   "source": [
    "class employee: #here car is the class name \n",
    "    name = \"Aman Singh\" #here this name is attribute of the class, \n",
    "    \n",
    "    def say_hi(): #here say_hi is a method, working of method is same as functions\n",
    "        print(f\"Hi you are in employee class \")"
   ]
  },
  {
   "cell_type": "markdown",
   "metadata": {},
   "source": [
    "Defining an object"
   ]
  },
  {
   "cell_type": "code",
   "execution_count": 23,
   "metadata": {},
   "outputs": [],
   "source": [
    "#syntax\n",
    "#object_name = Class_name()\n",
    "emp1 = employee() #here emp1 is the 1st object of employee class"
   ]
  },
  {
   "cell_type": "markdown",
   "metadata": {},
   "source": [
    "Accessing the attributes and methods of a class through objects"
   ]
  },
  {
   "cell_type": "code",
   "execution_count": 25,
   "metadata": {},
   "outputs": [
    {
     "data": {
      "text/plain": [
       "'Aman Singh'"
      ]
     },
     "execution_count": 25,
     "metadata": {},
     "output_type": "execute_result"
    }
   ],
   "source": [
    "#syntax\n",
    "#object_name.method(arguments) or object_name.attribute\n",
    "emp1.name #here we are accsessing the name attribute of the class \n"
   ]
  },
  {
   "cell_type": "markdown",
   "metadata": {},
   "source": [
    "self - is a refrence to the current instance or object which is used to access the attributes of the class in a method  "
   ]
  },
  {
   "cell_type": "code",
   "execution_count": 26,
   "metadata": {},
   "outputs": [
    {
     "name": "stdout",
     "output_type": "stream",
     "text": [
      "Hi you are in employee class\n",
      "Value passed to the function: naveen\n",
      "Attribute having the value as: naveen\n",
      "\n"
     ]
    },
    {
     "data": {
      "text/plain": [
       "'naveen'"
      ]
     },
     "execution_count": 26,
     "metadata": {},
     "output_type": "execute_result"
    }
   ],
   "source": [
    "class employee: \n",
    "    name = \"Aman\"\n",
    "    def say_hi(self, name):\n",
    "        self.name = name #this will update the main \"name\" attribute with the name passed to the\n",
    "        #function\n",
    "        print(\"Hi you are in employee class\")\n",
    "        print(f\"Value passed to the function: {name}\")\n",
    "        print(f\"Attribute having the value as: {self.name}\")\n",
    "\n",
    "        \n",
    "\n",
    "emp2 = employee() #emp2 is an object\n",
    "emp2.say_hi(\"naveen\") #here we are passing the value Naveen to the function which will be stored\n",
    "#locally in the method and when we try to use the self.name the value printed will be the name \n",
    "#attribute defined outside the function\n",
    "print() \n",
    "emp2.name                # <--- see it "
   ]
  },
  {
   "cell_type": "code",
   "execution_count": 33,
   "metadata": {},
   "outputs": [
    {
     "name": "stdout",
     "output_type": "stream",
     "text": [
      "Welcome Naveen you are currently working as a Developer\n",
      "\n",
      "Welcome Aman you are currently working as a Manager\n",
      "Welcome Naveen you are currently working as a Tester\n",
      "\n",
      "Welcome jayraj you are currently working as a AI devloper\n"
     ]
    }
   ],
   "source": [
    "class employee: \n",
    "    name = \"Aman\"\n",
    "    def say_hi(self, f_name):\n",
    "        self.name = f_name\n",
    "    def designation(self, desig):\n",
    "        print(f\"Welcome {self.name} you are currently working as a {desig}\")\n",
    "\n",
    "emp2 = employee() \n",
    "emp2.say_hi(\"Naveen\")\n",
    "emp2.designation(\"Developer\")\n",
    "print()\n",
    "emp3 = employee()\n",
    "emp3.designation(\"Manager\")\n",
    "emp2.designation(\"Tester\") \n",
    "print()\n",
    "emp2.say_hi(\"jayraj\")\n",
    "emp2.designation(\"AI devloper\")"
   ]
  },
  {
   "cell_type": "markdown",
   "metadata": {},
   "source": [
    "__init__function - this is a constructor which is used to initialize the values of the class attributes. This function is invoked as soon as an object is created"
   ]
  },
  {
   "cell_type": "code",
   "execution_count": 36,
   "metadata": {},
   "outputs": [
    {
     "name": "stdout",
     "output_type": "stream",
     "text": [
      "__init__ method invoked\n",
      "Hi I am Naveen and I am 35 years old\n",
      "__init__ method invoked\n"
     ]
    }
   ],
   "source": [
    "class Person:\n",
    "    def __init__(self, name, age):#this is a constructor\n",
    "        print(\"__init__ method invoked\")\n",
    "        self.name = name #here we are initializing the attributes name and age with default values\n",
    "        self.age = age\n",
    "    def display(self):\n",
    "        print(f\"Hi I am {self.name} and I am {self.age} years old\")\n",
    "\n",
    "p1 = Person(\"Naveen\", 35) #this will send the values to the __init__() which will store them in\n",
    "#the respective attributes\n",
    "p1.display()\n",
    "p2 = Person(\"Ankit\", 23)\n"
   ]
  },
  {
   "cell_type": "code",
   "execution_count": 45,
   "metadata": {},
   "outputs": [
    {
     "ename": "AttributeError",
     "evalue": "'Person' object has no attribute 'name'",
     "output_type": "error",
     "traceback": [
      "\u001b[1;31m---------------------------------------------------------------------------\u001b[0m",
      "\u001b[1;31mAttributeError\u001b[0m                            Traceback (most recent call last)",
      "Cell \u001b[1;32mIn [45], line 3\u001b[0m\n\u001b[0;32m      1\u001b[0m p2\u001b[39m.\u001b[39mname\n\u001b[0;32m      2\u001b[0m p2\u001b[39m.\u001b[39mage\n\u001b[1;32m----> 3\u001b[0m p1\u001b[39m.\u001b[39;49mname\n\u001b[0;32m      4\u001b[0m p1\u001b[39m.\u001b[39mage\n",
      "\u001b[1;31mAttributeError\u001b[0m: 'Person' object has no attribute 'name'"
     ]
    }
   ],
   "source": [
    "p2.name\n",
    "p2.age\n",
    "p1.name\n",
    "p1.age"
   ]
  },
  {
   "cell_type": "markdown",
   "metadata": {},
   "source": [
    "Delete object properties"
   ]
  },
  {
   "cell_type": "code",
   "execution_count": 44,
   "metadata": {},
   "outputs": [
    {
     "ename": "AttributeError",
     "evalue": "'Person' object has no attribute 'name'",
     "output_type": "error",
     "traceback": [
      "\u001b[1;31m---------------------------------------------------------------------------\u001b[0m",
      "\u001b[1;31mAttributeError\u001b[0m                            Traceback (most recent call last)",
      "Cell \u001b[1;32mIn [44], line 1\u001b[0m\n\u001b[1;32m----> 1\u001b[0m \u001b[39mprint\u001b[39m(p1\u001b[39m.\u001b[39;49mname)\n\u001b[0;32m      2\u001b[0m \u001b[39m# del p1.name #this will delete the name attribute for p1 object only but it\u001b[39;00m\n\u001b[0;32m      3\u001b[0m \u001b[39m#will not delete for the class and other objects\u001b[39;00m\n\u001b[0;32m      4\u001b[0m \u001b[39mprint\u001b[39m(p1\u001b[39m.\u001b[39mname)\n",
      "\u001b[1;31mAttributeError\u001b[0m: 'Person' object has no attribute 'name'"
     ]
    }
   ],
   "source": [
    "print(p1.name)\n",
    "del p1.name #this will delete the name attribute for p1 object only but it\n",
    "#will not delete for the class and other objects\n",
    "print(p1.name)"
   ]
  },
  {
   "cell_type": "code",
   "execution_count": 46,
   "metadata": {},
   "outputs": [
    {
     "name": "stdout",
     "output_type": "stream",
     "text": [
      "Hi I am Ankit and I am 23 years old\n",
      "------------------------\n"
     ]
    },
    {
     "ename": "AttributeError",
     "evalue": "'Person' object has no attribute 'name'",
     "output_type": "error",
     "traceback": [
      "\u001b[1;31m---------------------------------------------------------------------------\u001b[0m",
      "\u001b[1;31mAttributeError\u001b[0m                            Traceback (most recent call last)",
      "Cell \u001b[1;32mIn [46], line 3\u001b[0m\n\u001b[0;32m      1\u001b[0m p2\u001b[39m.\u001b[39mdisplay()\n\u001b[0;32m      2\u001b[0m \u001b[39mprint\u001b[39m(\u001b[39m\"\u001b[39m\u001b[39m------------------------\u001b[39m\u001b[39m\"\u001b[39m)\n\u001b[1;32m----> 3\u001b[0m p1\u001b[39m.\u001b[39;49mdisplay()\n",
      "Cell \u001b[1;32mIn [36], line 7\u001b[0m, in \u001b[0;36mPerson.display\u001b[1;34m(self)\u001b[0m\n\u001b[0;32m      6\u001b[0m \u001b[39mdef\u001b[39;00m \u001b[39mdisplay\u001b[39m(\u001b[39mself\u001b[39m):\n\u001b[1;32m----> 7\u001b[0m     \u001b[39mprint\u001b[39m(\u001b[39mf\u001b[39m\u001b[39m\"\u001b[39m\u001b[39mHi I am \u001b[39m\u001b[39m{\u001b[39;00m\u001b[39mself\u001b[39m\u001b[39m.\u001b[39mname\u001b[39m}\u001b[39;00m\u001b[39m and I am \u001b[39m\u001b[39m{\u001b[39;00m\u001b[39mself\u001b[39m\u001b[39m.\u001b[39mage\u001b[39m}\u001b[39;00m\u001b[39m years old\u001b[39m\u001b[39m\"\u001b[39m)\n",
      "\u001b[1;31mAttributeError\u001b[0m: 'Person' object has no attribute 'name'"
     ]
    }
   ],
   "source": [
    "p2.display()\n",
    "print(\"------------------------\")\n",
    "p1.display()"
   ]
  }
 ],
 "metadata": {
  "kernelspec": {
   "display_name": "Python 3.10.6 64-bit",
   "language": "python",
   "name": "python3"
  },
  "language_info": {
   "codemirror_mode": {
    "name": "ipython",
    "version": 3
   },
   "file_extension": ".py",
   "mimetype": "text/x-python",
   "name": "python",
   "nbconvert_exporter": "python",
   "pygments_lexer": "ipython3",
   "version": "3.10.6"
  },
  "orig_nbformat": 4,
  "vscode": {
   "interpreter": {
    "hash": "a912f55fab05c87cb1cd04c2481425fcfa639c2a43819b922954b685e4a5e63c"
   }
  }
 },
 "nbformat": 4,
 "nbformat_minor": 2
}
