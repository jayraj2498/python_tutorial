{
 "cells": [
  {
   "cell_type": "markdown",
   "metadata": {},
   "source": [
    "Nested Loops - Loop inside another loop"
   ]
  },
  {
   "cell_type": "code",
   "execution_count": 36,
   "metadata": {},
   "outputs": [
    {
     "ename": "NameError",
     "evalue": "name 'prflot' is not defined",
     "output_type": "error",
     "traceback": [
      "\u001b[1;31m---------------------------------------------------------------------------\u001b[0m",
      "\u001b[1;31mNameError\u001b[0m                                 Traceback (most recent call last)",
      "Cell \u001b[1;32mIn [36], line 3\u001b[0m\n\u001b[0;32m      1\u001b[0m \u001b[39mfor\u001b[39;00m i \u001b[39min\u001b[39;00m \u001b[39mrange\u001b[39m(\u001b[39m5\u001b[39m): \u001b[39m#here i is an variable\u001b[39;00m\n\u001b[0;32m      2\u001b[0m     \u001b[39mfor\u001b[39;00m j \u001b[39min\u001b[39;00m \u001b[39mrange\u001b[39m(\u001b[39m4\u001b[39m): \u001b[39m#here j is an variable\u001b[39;00m\n\u001b[1;32m----> 3\u001b[0m         prflot(\u001b[39m\"\u001b[39m\u001b[39mHello World\u001b[39m\u001b[39m\"\u001b[39m) \u001b[39m#this prflot is a part of \"j\" inner loop\u001b[39;00m\n\u001b[0;32m      5\u001b[0m     \u001b[39mprint\u001b[39m(\u001b[39mf\u001b[39m\u001b[39m\"\u001b[39m\u001b[39mExecuted for \u001b[39m\u001b[39m{\u001b[39;00mi \u001b[39m+\u001b[39m \u001b[39m1\u001b[39m\u001b[39m}\u001b[39;00m\u001b[39m times\u001b[39m\u001b[39m\"\u001b[39m)\n",
      "\u001b[1;31mNameError\u001b[0m: name 'prflot' is not defined"
     ]
    }
   ],
   "source": [
    "for i in range(5): #here i is an variable\n",
    "    for j in range(4): #here j is an variable\n",
    "        prflot(\"Hello World\") #this prflot is a part of \"j\" inner loop\n",
    "    \n",
    "    print(f\"Executed for {i + 1} times\") #this is a part of \"i\" outer loop\n"
   ]
  },
  {
   "cell_type": "code",
   "execution_count": null,
   "metadata": {},
   "outputs": [],
   "source": [
    "# *\n",
    "# * *\n",
    "# * * * \n",
    "# * * * * \n",
    "# * * * * *"
   ]
  },
  {
   "cell_type": "code",
   "execution_count": null,
   "metadata": {},
   "outputs": [],
   "source": [
    "# 1\n",
    "# 1 2\n",
    "# 1 2 3\n",
    "# 1 2 3 4\n",
    "# 1 2 3 4 5"
   ]
  },
  {
   "cell_type": "code",
   "execution_count": 19,
   "metadata": {},
   "outputs": [
    {
     "name": "stdout",
     "output_type": "stream",
     "text": [
      "Hello World-How are you\n",
      "I am on next line\n"
     ]
    }
   ],
   "source": [
    "print(\"Hello World\", end = \"-\")\n",
    "print(\"How are you\")\n",
    "print(\"I am on next line\")"
   ]
  },
  {
   "cell_type": "code",
   "execution_count": 3,
   "metadata": {},
   "outputs": [
    {
     "name": "stdout",
     "output_type": "stream",
     "text": [
      "hello my name is = jayraj sonawane,thanku\n"
     ]
    }
   ],
   "source": [
    "print(\"hello my name is\",end=\" = \")\n",
    "print(\"jayraj sonawane\",end=\",\")\n",
    "print(\"thanku\")"
   ]
  },
  {
   "cell_type": "code",
   "execution_count": 2,
   "metadata": {},
   "outputs": [
    {
     "name": "stdout",
     "output_type": "stream",
     "text": [
      "1 \n",
      "1 2 \n",
      "1 2 3 \n",
      "1 2 3 4 \n",
      "1 2 3 4 5 \n"
     ]
    }
   ],
   "source": [
    "for i in range(5):\n",
    "\n",
    "    for j in range(i+1):\n",
    "        print(j+1, end = \" \")\n",
    "        \n",
    "\n",
    "    print() #when the for j loop has been executed go to the next line"
   ]
  },
  {
   "cell_type": "code",
   "execution_count": 30,
   "metadata": {},
   "outputs": [
    {
     "name": "stdout",
     "output_type": "stream",
     "text": [
      "* \n",
      "* * \n",
      "* * * \n",
      "* * * * \n",
      "* * * * * \n"
     ]
    }
   ],
   "source": [
    "for i in range(5):\n",
    "\n",
    "    for j in range(i+1):\n",
    "        print(\"*\", end = \" \")\n",
    "\n",
    "    print()"
   ]
  },
  {
   "cell_type": "markdown",
   "metadata": {},
   "source": [
    "While Loop"
   ]
  },
  {
   "cell_type": "code",
   "execution_count": 31,
   "metadata": {},
   "outputs": [],
   "source": [
    "#while condition:\n",
    "#   block of code"
   ]
  },
  {
   "cell_type": "code",
   "execution_count": 33,
   "metadata": {},
   "outputs": [
    {
     "name": "stdout",
     "output_type": "stream",
     "text": [
      "1\n",
      "2\n",
      "3\n",
      "4\n",
      "5\n"
     ]
    }
   ],
   "source": [
    "for i in range(5):\n",
    "    print(i + 1)"
   ]
  },
  {
   "cell_type": "code",
   "execution_count": 34,
   "metadata": {},
   "outputs": [
    {
     "name": "stdout",
     "output_type": "stream",
     "text": [
      "0\n",
      "1\n",
      "2\n",
      "3\n",
      "4\n"
     ]
    }
   ],
   "source": [
    "i = 0 #initializing i with 0 \n",
    "\n",
    "while i < 5: #here we are gibing the condition that i should be less than 5\n",
    "    print(i)\n",
    "\n",
    "    i = i + 1 #updating the vlaue of i"
   ]
  },
  {
   "cell_type": "code",
   "execution_count": 35,
   "metadata": {},
   "outputs": [
    {
     "name": "stdout",
     "output_type": "stream",
     "text": [
      "10\n",
      "11\n",
      "12\n",
      "13\n",
      "14\n",
      "15\n",
      "16\n",
      "17\n",
      "18\n",
      "19\n",
      "20\n"
     ]
    }
   ],
   "source": [
    "#WAP to print numbers from 10 to 20 using while loop\n",
    "\n",
    "i = 10 #initializing i with 0 \n",
    "\n",
    "while i < 21: #here we are gibing the condition that i should be less than 5\n",
    "    print(i)\n",
    "\n",
    "    i = i + 1 #updating the vlaue of i"
   ]
  },
  {
   "cell_type": "code",
   "execution_count": null,
   "metadata": {},
   "outputs": [],
   "source": []
  },
  {
   "cell_type": "code",
   "execution_count": 3,
   "metadata": {},
   "outputs": [
    {
     "name": "stdout",
     "output_type": "stream",
     "text": [
      "The number entered is 183\n",
      "Taken out value for addition is 3\n",
      "Value Remaining 18\n",
      "Sum of numbers till now: 3\n",
      "\n",
      "Taken out value for addition is 8\n",
      "Value Remaining 1\n",
      "Sum of numbers till now: 11\n",
      "\n",
      "Taken out value for addition is 1\n",
      "Value Remaining 0\n",
      "Sum of numbers till now: 12\n",
      "\n",
      "The sum of digits of 183 is: 12\n"
     ]
    }
   ],
   "source": [
    "#WAP to find the sum of digits of a number\n",
    "#eg- 183 then output should be 1 + 8 + 3 i.e., 12\n",
    "num = int(input(\"Enter the number: \"))\n",
    "print(f\"The number entered is {num}\")\n",
    "n = num\n",
    "sum = 0\n",
    "while n > 0:\n",
    "    unit_place_value = n % 10\n",
    "    print(f\"Taken out value for addition is {unit_place_value}\")\n",
    "    n = n // 10\n",
    "    print(f\"Value Remaining {n}\")\n",
    "    sum = sum + unit_place_value\n",
    "    print(f\"Sum of numbers till now: {sum}\")\n",
    "    print()\n",
    "print(f\"The sum of digits of {num} is: {sum}\")\n"
   ]
  },
  {
   "cell_type": "code",
   "execution_count": 13,
   "metadata": {},
   "outputs": [
    {
     "name": "stdout",
     "output_type": "stream",
     "text": [
      "The number entered is 183\n",
      "Taken out value for addition is 3\n",
      "Value Remaining 18\n",
      "Sum of numbers till now: 27\n",
      "\n",
      "Taken out value for addition is 8\n",
      "Value Remaining 1\n",
      "Sum of numbers till now: 539\n",
      "\n",
      "Taken out value for addition is 1\n",
      "Value Remaining 0\n",
      "Sum of numbers till now: 540\n",
      "\n",
      "The sum of digits of 183 is: 540\n"
     ]
    }
   ],
   "source": [
    "#WAP to find the sum of cube of digits of a number\n",
    "# 183-> 1^3 + 8^3 + 3^3 = \n",
    "\n",
    "num = int(input(\"Enter the number: \"))\n",
    "print(f\"The number entered is {num}\")\n",
    "n = num\n",
    "sum = 0\n",
    "while n > 0:\n",
    "    unit_place_value = n % 10\n",
    "    print(f\"Taken out value for addition is {unit_place_value}\")\n",
    "    n = n // 10\n",
    "    print(f\"Value Remaining {n}\")\n",
    "    sum = sum + (unit_place_value ** 3)\n",
    "    print(f\"Sum of numbers till now: {sum}\")\n",
    "    print()\n",
    "print(f\"The sum of digits of {num} is: {sum}\")\n"
   ]
  },
  {
   "cell_type": "code",
   "execution_count": null,
   "metadata": {},
   "outputs": [],
   "source": [
    "#WAP to find whether a number is armstrong number or not\n",
    "#Armstrong number is a number where we find the sum of digits each rasied \n",
    "# to the power of number of digits should be equal to original number\n",
    "\n",
    "#eg -> 1145 -> here number of digits is 4 so output should be\n",
    "# 1^4 + 1^4 + 4^4 + 5^4 = 1 + 1 + 256 + 625 = 883\n",
    "\n",
    "#this 883 is not equals to 1145\n",
    "\n",
    "#hint - take input as a string and then in another variable convert it to integer\n",
    "#1634 -> 1^4 + 6^4 + 3^4 + 4^4 = 1 + 1296 + 81 + 256 = 1634"
   ]
  },
  {
   "cell_type": "code",
   "execution_count": 53,
   "metadata": {},
   "outputs": [],
   "source": [
    "#WAP to find whether a element is present in a list or not"
   ]
  },
  {
   "cell_type": "code",
   "execution_count": 18,
   "metadata": {},
   "outputs": [
    {
     "name": "stdout",
     "output_type": "stream",
     "text": [
      "Final List is- \n",
      "['cherry']\n"
     ]
    }
   ],
   "source": [
    "ch = \"y\"\n",
    "list1 = []\n",
    "while ch == \"y\":\n",
    "    fruits = input(\"Enter a fruit: \")\n",
    "    list1.append(fruits)\n",
    "    ch = input(\"Do you want to enter again\")\n",
    "\n",
    "print(\"Final List is- \")\n",
    "print(list1)"
   ]
  },
  {
   "cell_type": "code",
   "execution_count": 21,
   "metadata": {},
   "outputs": [
    {
     "name": "stdout",
     "output_type": "stream",
     "text": [
      "Fruit entered: cherry\n",
      "Fruit entered: mango\n",
      "Fruit entered: apple\n",
      "Final List is- \n",
      "['cherry', 'mango', 'apple']\n"
     ]
    }
   ],
   "source": [
    "list1 = []\n",
    "while True: #this is an infinite loop which will terminate only when \n",
    "    #break statement is encountered\n",
    "    fruits = input(\"Enter a fruit: \")\n",
    "    print(f\"Fruit entered: {fruits}\")\n",
    "    list1.append(fruits)\n",
    "    ch = input(\"Do you want to enter again\")\n",
    "    if(ch != 'y'): #till the time you are enetering y the loop will execute so as soon as you \n",
    "        #enter anything other than y it will break\n",
    "        break\n",
    "\n",
    "print(\"Final List is- \")\n",
    "print(list1)"
   ]
  },
  {
   "cell_type": "code",
   "execution_count": 60,
   "metadata": {},
   "outputs": [
    {
     "ename": "SyntaxError",
     "evalue": "expected ':' (3535934479.py, line 8)",
     "output_type": "error",
     "traceback": [
      "\u001b[1;36m  Cell \u001b[1;32mIn [60], line 8\u001b[1;36m\u001b[0m\n\u001b[1;33m    if(ch != 'y') #till the time you are enetering y the loop will execute so as soon as you\u001b[0m\n\u001b[1;37m                  ^\u001b[0m\n\u001b[1;31mSyntaxError\u001b[0m\u001b[1;31m:\u001b[0m expected ':'\n"
     ]
    }
   ],
   "source": [
    "set1 = set()\n",
    "while True: #this is an infinite loop which will terminate only when \n",
    "    #break statement is encountered\n",
    "    fruits = input(\"Enter a fruit: \")\n",
    "    print(f\"Fruit entered: {fruits}\")\n",
    "    set1.add(fruits)\n",
    "    ch = input(\"Do you want to enter again(y/n)\")\n",
    "    if(ch != 'y'): #till the time you are enetering y the loop will execute so as soon as you \n",
    "        #enter anything other than y it will break\n",
    "        break\n",
    "\n",
    "print(\"Final set is- \")\n",
    "print(set1)"
   ]
  },
  {
   "cell_type": "code",
   "execution_count": 6,
   "metadata": {},
   "outputs": [
    {
     "name": "stdout",
     "output_type": "stream",
     "text": [
      "========================================================\n"
     ]
    }
   ],
   "source": [
    "print(\"========================================================\")"
   ]
  },
  {
   "cell_type": "code",
   "execution_count": 4,
   "metadata": {},
   "outputs": [],
   "source": [
    "def working_of_car():\n",
    "    print(\"if you aare using car u shouls use key \")\n",
    "    print(\"then you know functionality of car \")"
   ]
  },
  {
   "cell_type": "code",
   "execution_count": 5,
   "metadata": {},
   "outputs": [
    {
     "name": "stdout",
     "output_type": "stream",
     "text": [
      "if you aare using car u shouls use key \n",
      "then you know functionality of car \n"
     ]
    }
   ],
   "source": [
    "working_of_car()"
   ]
  },
  {
   "cell_type": "code",
   "execution_count": 7,
   "metadata": {},
   "outputs": [
    {
     "name": "stdout",
     "output_type": "stream",
     "text": [
      "your are inside the vending machine \n",
      "you have seclected pizza\n"
     ]
    }
   ],
   "source": [
    "def vending_machine(thing):\n",
    "    print(\"your are inside the vending machine \")\n",
    "    print(f\"you have seclected {thing}\")\n",
    "    \n",
    "vending_machine(\"pizza\")    "
   ]
  },
  {
   "cell_type": "code",
   "execution_count": 12,
   "metadata": {},
   "outputs": [
    {
     "name": "stdout",
     "output_type": "stream",
     "text": [
      "the addintion of of three no is :\n",
      "addion is:60\n",
      "subtrctionis:-40\n",
      "multiplication is:6000\n",
      "division  is:0.016666666666666666\n"
     ]
    }
   ],
   "source": [
    "def sum_of_no(no1,no2,no3):\n",
    "    print(\"the addintion of of three no is :\")\n",
    "    print(f\"addion is:{no1+no2+no3}\")\n",
    "    print(f\"subtrctionis:{no1-no2-no3}\")\n",
    "    print(f\"multiplication is:{no1*no2*no3}\")\n",
    "    print(f\"division  is:{no1/no2/no3}\")\n",
    "    \n",
    "sum_of_no(10,20,30)"
   ]
  },
  {
   "cell_type": "code",
   "execution_count": 23,
   "metadata": {},
   "outputs": [
    {
     "name": "stdout",
     "output_type": "stream",
     "text": [
      "The principal is 8000\n",
      "The time period is 2\n",
      "The rate of interest is 8\n",
      "The Simple Interest is 1280.0\n"
     ]
    }
   ],
   "source": [
    "def simple_interest(p,t,r):\n",
    "    print('The principal is', p)\n",
    "    print('The time period is', t)\n",
    "    print('The rate of interest is',r)\n",
    "     \n",
    "    si = (p * t * r)/100\n",
    "     \n",
    "    print('The Simple Interest is', si)\n",
    "    return si\n",
    "     \n",
    "# Driver code\n",
    "simple_interest(8000, 2, 8)"
   ]
  },
  {
   "cell_type": "code",
   "execution_count": 24,
   "metadata": {},
   "outputs": [
    {
     "ename": "TypeError",
     "evalue": "can't multiply sequence by non-int of type 'str'",
     "output_type": "error",
     "traceback": [
      "\u001b[1;31m---------------------------------------------------------------------------\u001b[0m",
      "\u001b[1;31mTypeError\u001b[0m                                 Traceback (most recent call last)",
      "Cell \u001b[1;32mIn [24], line 14\u001b[0m\n\u001b[0;32m     10\u001b[0m     \u001b[39mprint\u001b[39m(\u001b[39mf\u001b[39m\u001b[39m\"\u001b[39m\u001b[39mthe simple intrest is:\u001b[39m\u001b[39m{\u001b[39;00msi\u001b[39m}\u001b[39;00m\u001b[39m\"\u001b[39m)\n\u001b[0;32m     11\u001b[0m     \u001b[39mreturn\u001b[39;00m si \n\u001b[1;32m---> 14\u001b[0m s_intrest(\u001b[39m45000\u001b[39;49m,\u001b[39m5\u001b[39;49m,\u001b[39m4\u001b[39;49m)\n",
      "Cell \u001b[1;32mIn [24], line 9\u001b[0m, in \u001b[0;36ms_intrest\u001b[1;34m(p_a, r_i, t_p)\u001b[0m\n\u001b[0;32m      6\u001b[0m r_i\u001b[39m=\u001b[39m\u001b[39minput\u001b[39m(\u001b[39m\"\u001b[39m\u001b[39menter the rate of intrest  \u001b[39m\u001b[39m\"\u001b[39m)\n\u001b[0;32m      7\u001b[0m t_p\u001b[39m=\u001b[39m\u001b[39minput\u001b[39m(\u001b[39m\"\u001b[39m\u001b[39menter the time period  \u001b[39m\u001b[39m\"\u001b[39m) \n\u001b[1;32m----> 9\u001b[0m si\u001b[39m=\u001b[39m(p_a\u001b[39m*\u001b[39;49mr_i\u001b[39m*\u001b[39mt_p)\u001b[39m/\u001b[39m\u001b[39m100\u001b[39m  \n\u001b[0;32m     10\u001b[0m \u001b[39mprint\u001b[39m(\u001b[39mf\u001b[39m\u001b[39m\"\u001b[39m\u001b[39mthe simple intrest is:\u001b[39m\u001b[39m{\u001b[39;00msi\u001b[39m}\u001b[39;00m\u001b[39m\"\u001b[39m)\n\u001b[0;32m     11\u001b[0m \u001b[39mreturn\u001b[39;00m si\n",
      "\u001b[1;31mTypeError\u001b[0m: can't multiply sequence by non-int of type 'str'"
     ]
    }
   ],
   "source": [
    "#programr on simple intrest \n",
    " \n",
    "def s_intrest(p_a,r_i,t_p):\n",
    "\n",
    "    p_a=input(\"enter the principal amount \")\n",
    "    r_i=input(\"enter the rate of intrest  \")\n",
    "    t_p=input(\"enter the time period  \") \n",
    "\n",
    "    si=(p_a*r_i*t_p)/100  \n",
    "    print(f\"the simple intrest is:{si}\")\n",
    "    return si \n",
    "\n",
    "\n",
    "s_intrest(45000,5,4)\n"
   ]
  },
  {
   "cell_type": "code",
   "execution_count": null,
   "metadata": {},
   "outputs": [],
   "source": [
    "def function [\"amman\",\"dev\",\"ajay\",\"joy\"]:\n",
    "    print(function)\n",
    "    \n",
    "   function(\"amman\") "
   ]
  },
  {
   "cell_type": "markdown",
   "metadata": {},
   "source": [
    "==================================================================================================="
   ]
  },
  {
   "cell_type": "code",
   "execution_count": 21,
   "metadata": {},
   "outputs": [
    {
     "name": "stdout",
     "output_type": "stream",
     "text": [
      "good morning everyone \n"
     ]
    }
   ],
   "source": [
    "def lline():       # no orgument no parameter \n",
    "    print(\"good morning everyone \")\n",
    "    \n",
    "lline()"
   ]
  },
  {
   "cell_type": "code",
   "execution_count": 3,
   "metadata": {},
   "outputs": [
    {
     "name": "stdout",
     "output_type": "stream",
     "text": [
      "good morning jayraj\n"
     ]
    }
   ],
   "source": [
    "def morning(name):             #<--- argument                         \n",
    "    print(\"good morning \"+name)  #<---- function defination   #argument and parameter also \n",
    "    \n",
    "morning(\"jayraj\")             # <-------- function call <--- parameter  "
   ]
  },
  {
   "cell_type": "code",
   "execution_count": 6,
   "metadata": {},
   "outputs": [
    {
     "name": "stdout",
     "output_type": "stream",
     "text": [
      "there are many games but people favorite is football\n",
      "there are many games but people favorite is criecket\n",
      "there are many games but people favorite is tennis\n"
     ]
    }
   ],
   "source": [
    "def fav_son(name=\"jayraj\"):\n",
    "    print(f\" everyone is favorite but most fav person of mamma is \"+name)\n",
    "    \n",
    "fav_son(\"akash\")    #<-- we pass argument here\n",
    "fav_son(\"poonam\")   #<-- we pass argument here\n",
    "fav_son()    #<-- parameter "
   ]
  },
  {
   "cell_type": "code",
   "execution_count": 14,
   "metadata": {},
   "outputs": [
    {
     "name": "stdout",
     "output_type": "stream",
     "text": [
      "we should always eat a fruit everyday beacause corona is there\n",
      "110\n"
     ]
    }
   ],
   "source": [
    "# in a one program  we can run two function \n",
    "\n",
    "\n",
    "def daily(name): #<-- argument \n",
    "     print(\"we should always eat a fruit everyday \"+name)\n",
    "     \n",
    "def add_val(val1,val2):    #<---argument \n",
    "     return val1+val2 \n",
    "\n",
    "daily(\"beacause corona is there\")   #<--parameter \n",
    "q=add_val(56,54)                    #<--parameter \n",
    "print(q) "
   ]
  },
  {
   "cell_type": "code",
   "execution_count": 15,
   "metadata": {},
   "outputs": [
    {
     "name": "stdout",
     "output_type": "stream",
     "text": [
      "we should always eat a fruit everyday beacause corona is there\n",
      "110\n"
     ]
    }
   ],
   "source": [
    "# in a one function we can run two function \n",
    "\n",
    "\n",
    "def daily(name):                               #<-- argument \n",
    "     j=print(\"we should always eat a fruit everyday \"+name)\n",
    "     return j  \n",
    "def add_val(val1,val2):                       #<---argument \n",
    "    return val1+val2 \n",
    "\n",
    "daily(\"beacause corona is there\")            #<--parameter \n",
    "q=add_val(56,54)                             #<--parameter \n",
    "print(q)"
   ]
  },
  {
   "cell_type": "code",
   "execution_count": 21,
   "metadata": {},
   "outputs": [
    {
     "data": {
      "text/plain": [
       "' hello welcome to pandora jayraj'"
      ]
     },
     "execution_count": 21,
     "metadata": {},
     "output_type": "execute_result"
    }
   ],
   "source": [
    "def func(name):   #<---argument \n",
    "     a= \" hello welcome to pandora \"+name \n",
    "     return a    # it will return what a is stored \n",
    "     \n",
    "func(\"jayraj\")#< -- parameter \n"
   ]
  },
  {
   "cell_type": "code",
   "execution_count": 22,
   "metadata": {},
   "outputs": [
    {
     "name": "stdout",
     "output_type": "stream",
     "text": [
      " everyone is favorite but most fav person of mamma is akash\n",
      " everyone is favorite but most fav person of mamma is poonam\n",
      " everyone is favorite but most fav person of mamma is jayraj\n"
     ]
    }
   ],
   "source": [
    "# default argument pass \n",
    "\n",
    "\n",
    "def fav_son(name=\"jayraj\"):\n",
    "    print(f\" everyone is favorite but most fav person of mamma is \"+name)\n",
    "    \n",
    "fav_son(\"akash\")    #<-- we pass argument here\n",
    "fav_son(\"poonam\")   #<-- we pass argument here\n",
    "fav_son()              # by default it take name value as jayraj without passing the valuae "
   ]
  },
  {
   "cell_type": "code",
   "execution_count": 5,
   "metadata": {},
   "outputs": [
    {
     "name": "stdout",
     "output_type": "stream",
     "text": [
      "you are learing in class 5\n"
     ]
    }
   ],
   "source": [
    "def std(class1):    # argument \n",
    "    print(F\"you are learing in class \"+class1) # function defination \n",
    "    \n",
    "std(\"5\") # parameter , function call "
   ]
  },
  {
   "cell_type": "code",
   "execution_count": 16,
   "metadata": {},
   "outputs": [
    {
     "name": "stdout",
     "output_type": "stream",
     "text": [
      "you are learing in class 5\n",
      "substraction of number is \n"
     ]
    },
    {
     "data": {
      "text/plain": [
       "55"
      ]
     },
     "execution_count": 16,
     "metadata": {},
     "output_type": "execute_result"
    }
   ],
   "source": [
    "def std(class1):    # argument \n",
    "    print(F\"you are learing in class \"+class1) # function defination  \n",
    "    \n",
    "def func(jay,raj):\n",
    "    print (f\"substraction of number is \" )\n",
    "    return jay-raj \n",
    "std(\"5\") \n",
    "func(89,34)"
   ]
  },
  {
   "cell_type": "code",
   "execution_count": 20,
   "metadata": {},
   "outputs": [
    {
     "name": "stdout",
     "output_type": "stream",
     "text": [
      "you are learing in class 6\n",
      "None\n",
      "you are learing in class 8\n",
      "None\n",
      "you are learing in class 5\n",
      "None\n"
     ]
    }
   ],
   "source": [
    "def std(class1=\"5\"):    # argument \n",
    " a= print(F\"you are learing in class \"+class1) \n",
    " print(a)\n",
    " return a  \n",
    "\n",
    "    \n",
    "std(\"6\")\n",
    "std(\"8\") \n",
    "std()      \n",
    "# print(a)"
   ]
  },
  {
   "cell_type": "code",
   "execution_count": 26,
   "metadata": {},
   "outputs": [
    {
     "name": "stdout",
     "output_type": "stream",
     "text": [
      "you are inside the fun function \n"
     ]
    },
    {
     "data": {
      "text/plain": [
       "'jayrajsoanwane'"
      ]
     },
     "execution_count": 26,
     "metadata": {},
     "output_type": "execute_result"
    }
   ],
   "source": [
    "#Point 4      Parameter and a return statement \n",
    "\n",
    "\n",
    "def fun(name1,name2):\n",
    "    print(\"you are inside the fun function \")\n",
    "    full_name= name1+\" \"+name2\n",
    "    return full_name\n",
    "    \n",
    "    \n",
    "fun(\"jayraj\",\"soanwane\") "
   ]
  },
  {
   "cell_type": "code",
   "execution_count": 30,
   "metadata": {},
   "outputs": [
    {
     "name": "stdout",
     "output_type": "stream",
     "text": [
      "you are inside the fun function \n"
     ]
    },
    {
     "data": {
      "text/plain": [
       "'jayraj sonawane'"
      ]
     },
     "execution_count": 30,
     "metadata": {},
     "output_type": "execute_result"
    }
   ],
   "source": [
    "# taking input \n",
    "\n",
    "\n",
    "def fun(name1,name2):\n",
    "    print(\"you are inside the fun function \")\n",
    "    full_name= name1+\" \"+name2\n",
    "    return full_name\n",
    "    \n",
    "    \n",
    "f_name=input(\"enter the first name\")\n",
    "s_name=input(\"enter the second name\")\n",
    "\n",
    "fun(f_name,s_name)\n"
   ]
  },
  {
   "cell_type": "code",
   "execution_count": 31,
   "metadata": {},
   "outputs": [
    {
     "name": "stdout",
     "output_type": "stream",
     "text": [
      "you are inside the fun function \n"
     ]
    },
    {
     "data": {
      "text/plain": [
       "'akash  jade'"
      ]
     },
     "execution_count": 31,
     "metadata": {},
     "output_type": "execute_result"
    }
   ],
   "source": [
    "\n",
    "def fun(name1,name2):\n",
    "    print(\"you are inside the fun function \")\n",
    "    full_name= name1+\" \"+name2\n",
    "    return full_name\n",
    "    \n",
    "    \n",
    "f_name=input(\"enter the first name\")\n",
    "s_name=input(\"enter the second name\")\n",
    "\n",
    "a=fun(f_name,s_name)\n",
    "a\n"
   ]
  },
  {
   "cell_type": "markdown",
   "metadata": {},
   "source": [
    "#WAP to create a function that will calculate simple interest based on principal amount, \n",
    " rate of interest and time period taken from user and passing it to the function and then \n",
    "return the simple interest and print it"
   ]
  },
  {
   "cell_type": "code",
   "execution_count": 40,
   "metadata": {},
   "outputs": [
    {
     "name": "stdout",
     "output_type": "stream",
     "text": [
      "simple intrest on amount of:500000 with intrest of:18% with tme peroid:5 year is-->450000.0\n"
     ]
    }
   ],
   "source": [
    "def simple_intrest(p_a,r_i,t_p):\n",
    "    si=(p_a*r_i*t_p)/100\n",
    "    return si \n",
    "\n",
    "amount=int(input(\"enter the pricipal amount\"))\n",
    "interest=int(input(\"enter the rate of intrest\"))\n",
    "time=int(input(\"enter the the time period \"))\n",
    "\n",
    "ans=simple_intrest(amount,interest,time) \n",
    "print(f\"simple intrest on amount of:{amount} with intrest of:{interest}% with tme peroid:{time} year is-->{ans}\")\n"
   ]
  },
  {
   "cell_type": "code",
   "execution_count": 48,
   "metadata": {},
   "outputs": [
    {
     "name": "stdout",
     "output_type": "stream",
     "text": [
      "jayraj\n"
     ]
    }
   ],
   "source": [
    "def fun(name1,name2):\n",
    "    print(name1)\n",
    "    \n",
    "    \n",
    "fun(\"jayraj\",\"aksah\")"
   ]
  },
  {
   "cell_type": "markdown",
   "metadata": {},
   "source": [
    "arbitary argument = arbitry argument are receive unlimited input in only one argument (*agr) or (*jay)"
   ]
  },
  {
   "cell_type": "code",
   "execution_count": 49,
   "metadata": {},
   "outputs": [
    {
     "name": "stdout",
     "output_type": "stream",
     "text": [
      "('samsung', 'motorola', 'apple', 'mi', 'nokia', 'realme', 'vivo', 'opppo')\n"
     ]
    }
   ],
   "source": [
    "def mob(*arg):\n",
    "    print(arg) \n",
    "\n",
    "mob(\"samsung\",\"motorola\",\"apple\",\"mi\",\"nokia\",\"realme\",\"vivo\",\"opppo\")   # unlimited "
   ]
  },
  {
   "cell_type": "code",
   "execution_count": 50,
   "metadata": {},
   "outputs": [
    {
     "name": "stdout",
     "output_type": "stream",
     "text": [
      "('samsung', 'motorola', 'apple', 'mi', 'nokia', 'realme', 'vivo', 'opppo')\n"
     ]
    }
   ],
   "source": [
    "def mob(*arg):\n",
    "    a=print(arg) \n",
    "    return a\n",
    "\n",
    "mob(\"samsung\",\"motorola\",\"apple\",\"mi\",\"nokia\",\"realme\",\"vivo\",\"opppo\")   # unlimited "
   ]
  },
  {
   "cell_type": "code",
   "execution_count": 52,
   "metadata": {},
   "outputs": [
    {
     "name": "stdout",
     "output_type": "stream",
     "text": [
      "('samsung', 'motorola', 'apple', 'mi', 'nokia', 'realme', 'vivo', 'opppo')\n"
     ]
    },
    {
     "data": {
      "text/plain": [
       "'all mobile is here'"
      ]
     },
     "execution_count": 52,
     "metadata": {},
     "output_type": "execute_result"
    }
   ],
   "source": [
    "def mob(*arg):\n",
    "    print(arg) \n",
    "    return \"all mobile is here\"   # whatever it will return we want \n",
    "\n",
    "mob(\"samsung\",\"motorola\",\"apple\",\"mi\",\"nokia\",\"realme\",\"vivo\",\"opppo\") \n"
   ]
  },
  {
   "cell_type": "code",
   "execution_count": 53,
   "metadata": {},
   "outputs": [
    {
     "name": "stdout",
     "output_type": "stream",
     "text": [
      "('samsung', 'motorola', 'apple', 'mi', 'nokia', 'realme', 'vivo', 'opppo')\n"
     ]
    }
   ],
   "source": [
    "def mob(*arg):\n",
    "    print(arg) \n",
    "\n",
    "mobile=mob(\"samsung\",\"motorola\",\"apple\",\"mi\",\"nokia\",\"realme\",\"vivo\",\"opppo\") \n",
    "mobile # <--- these is nothing here "
   ]
  },
  {
   "cell_type": "code",
   "execution_count": 56,
   "metadata": {},
   "outputs": [
    {
     "ename": "IndentationError",
     "evalue": "expected an indented block after function definition on line 1 (282230697.py, line 4)",
     "output_type": "error",
     "traceback": [
      "\u001b[1;36m  Cell \u001b[1;32mIn [56], line 4\u001b[1;36m\u001b[0m\n\u001b[1;33m    mobile=mob(\"samsung\",\"motorola\",\"apple\",\"mi\",\"nokia\",\"realme\",\"vivo\",\"opppo\")\u001b[0m\n\u001b[1;37m    ^\u001b[0m\n\u001b[1;31mIndentationError\u001b[0m\u001b[1;31m:\u001b[0m expected an indented block after function definition on line 1\n"
     ]
    }
   ],
   "source": [
    "def mob(*arg):    # error \n",
    "    \n",
    "\n",
    "mobile=mob(\"samsung\",\"motorola\",\"apple\",\"mi\",\"nokia\",\"realme\",\"vivo\",\"opppo\") \n",
    "mobile"
   ]
  },
  {
   "cell_type": "code",
   "execution_count": 2,
   "metadata": {},
   "outputs": [],
   "source": [
    "def mob(*arg):\n",
    "    A=arg      # it will run but not giving an op coz weare not printing anythng her or returning any thing \n",
    "\n",
    "mobile=mob(\"samsung\",\"motorola\",\"apple\",\"mi\",\"nokia\",\"realme\",\"vivo\",\"opppo\") \n"
   ]
  },
  {
   "cell_type": "code",
   "execution_count": 66,
   "metadata": {},
   "outputs": [
    {
     "name": "stdout",
     "output_type": "stream",
     "text": [
      "None\n"
     ]
    }
   ],
   "source": [
    "def mob(*arg):\n",
    "    A=arg\n",
    "    \n",
    "\n",
    "mobile=mob(\"samsung\",\"motorola\",\"apple\",\"mi\",\"nokia\",\"realme\",\"vivo\",\"opppo\") \n",
    "print(mobile)"
   ]
  },
  {
   "cell_type": "code",
   "execution_count": 64,
   "metadata": {},
   "outputs": [],
   "source": [
    "def mob(*arg):  \n",
    "    A=arg\n",
    "    return A\n",
    "\n",
    "mobile=mob(\"samsung\",\"motorola\",\"apple\",\"mi\",\"nokia\",\"realme\",\"vivo\",\"opppo\") \n"
   ]
  },
  {
   "cell_type": "code",
   "execution_count": 61,
   "metadata": {},
   "outputs": [
    {
     "name": "stdout",
     "output_type": "stream",
     "text": [
      "mobile\n"
     ]
    }
   ],
   "source": [
    "def mob(*arg):\n",
    "    A=arg\n",
    "    \n",
    "\n",
    "mobile=mob(\"samsung\",\"motorola\",\"apple\",\"mi\",\"nokia\",\"realme\",\"vivo\",\"opppo\") \n",
    "print(\"mobile\")"
   ]
  },
  {
   "cell_type": "code",
   "execution_count": 62,
   "metadata": {},
   "outputs": [
    {
     "ename": "TypeError",
     "evalue": "mob() takes 1 positional argument but 8 were given",
     "output_type": "error",
     "traceback": [
      "\u001b[1;31m---------------------------------------------------------------------------\u001b[0m",
      "\u001b[1;31mTypeError\u001b[0m                                 Traceback (most recent call last)",
      "Cell \u001b[1;32mIn [62], line 4\u001b[0m\n\u001b[0;32m      1\u001b[0m \u001b[39mdef\u001b[39;00m \u001b[39mmob\u001b[39m(arg):\n\u001b[0;32m      2\u001b[0m     \u001b[39mprint\u001b[39m(arg) \n\u001b[1;32m----> 4\u001b[0m mob(\u001b[39m\"\u001b[39;49m\u001b[39msamsung\u001b[39;49m\u001b[39m\"\u001b[39;49m,\u001b[39m\"\u001b[39;49m\u001b[39mmotorola\u001b[39;49m\u001b[39m\"\u001b[39;49m,\u001b[39m\"\u001b[39;49m\u001b[39mapple\u001b[39;49m\u001b[39m\"\u001b[39;49m,\u001b[39m\"\u001b[39;49m\u001b[39mmi\u001b[39;49m\u001b[39m\"\u001b[39;49m,\u001b[39m\"\u001b[39;49m\u001b[39mnokia\u001b[39;49m\u001b[39m\"\u001b[39;49m,\u001b[39m\"\u001b[39;49m\u001b[39mrealme\u001b[39;49m\u001b[39m\"\u001b[39;49m,\u001b[39m\"\u001b[39;49m\u001b[39mvivo\u001b[39;49m\u001b[39m\"\u001b[39;49m,\u001b[39m\"\u001b[39;49m\u001b[39mopppo\u001b[39;49m\u001b[39m\"\u001b[39;49m)\n",
      "\u001b[1;31mTypeError\u001b[0m: mob() takes 1 positional argument but 8 were given"
     ]
    }
   ],
   "source": [
    "def mob(arg):     # coz there is no * (arg)\n",
    "    print(arg) \n",
    "\n",
    "mob(\"samsung\",\"motorola\",\"apple\",\"mi\",\"nokia\",\"realme\",\"vivo\",\"opppo\")"
   ]
  },
  {
   "cell_type": "code",
   "execution_count": 63,
   "metadata": {},
   "outputs": [
    {
     "name": "stdout",
     "output_type": "stream",
     "text": [
      "('samsung', 'motorola', 'apple', 'mi', 'nokia', 'realme', 'vivo', 'opppo')\n"
     ]
    }
   ],
   "source": [
    "def mob(*iphone):     # u can give any name to but have to use * there \n",
    "    print(iphone) \n",
    "\n",
    "mob(\"samsung\",\"motorola\",\"apple\",\"mi\",\"nokia\",\"realme\",\"vivo\",\"opppo\")\n"
   ]
  },
  {
   "cell_type": "code",
   "execution_count": 6,
   "metadata": {},
   "outputs": [
    {
     "name": "stdout",
     "output_type": "stream",
     "text": [
      "('samsung', 'motorola', 'apple', 'mi', 'nokia', 'realme', 'vivo', 'opppo')\n",
      "<class 'tuple'>\n"
     ]
    }
   ],
   "source": [
    "def mob(*arg):\n",
    "    print(arg)\n",
    "    print(type(arg))\n",
    "\n",
    "\n",
    "mob(\"samsung\",\"motorola\",\"apple\",\"mi\",\"nokia\",\"realme\",\"vivo\",\"opppo\")\n",
    "\n",
    "\n"
   ]
  },
  {
   "cell_type": "code",
   "execution_count": 12,
   "metadata": {},
   "outputs": [
    {
     "name": "stdout",
     "output_type": "stream",
     "text": [
      "samsung\n",
      "motorola\n",
      "apple\n",
      "mi\n",
      "nokia\n",
      "realme\n",
      "vivo\n",
      "opppo\n"
     ]
    }
   ],
   "source": [
    "def mob(*arg):\n",
    "    for i in arg:\n",
    "         print(i)\n",
    "\n",
    "\n",
    "mob(\"samsung\",\"motorola\",\"apple\",\"mi\",\"nokia\",\"realme\",\"vivo\",\"opppo\")"
   ]
  },
  {
   "cell_type": "code",
   "execution_count": 11,
   "metadata": {},
   "outputs": [
    {
     "name": "stdout",
     "output_type": "stream",
     "text": [
      "mi\n"
     ]
    }
   ],
   "source": [
    "def mob(*arg):\n",
    "    for i in arg:\n",
    "        if i==\"mi\":\n",
    "         print(i)\n",
    "\n",
    "\n",
    "mob(\"samsung\",\"motorola\",\"apple\",\"mi\",\"nokia\",\"realme\",\"vivo\",\"opppo\")"
   ]
  },
  {
   "cell_type": "code",
   "execution_count": null,
   "metadata": {},
   "outputs": [],
   "source": [
    "def mob(*arg):\n",
    "    for i in arg:\n",
    "        if i==\"apple\":\n",
    "         break\n",
    "        print(i)\n",
    "\n",
    "\n",
    "mob(\"samsung\",\"motorola\",\"apple\",\"mi\",\"nokia\",\"realme\",\"vivo\",\"opppo\")"
   ]
  },
  {
   "cell_type": "code",
   "execution_count": 14,
   "metadata": {},
   "outputs": [
    {
     "name": "stdout",
     "output_type": "stream",
     "text": [
      "samsung\n",
      "motorola\n",
      "mi\n",
      "nokia\n",
      "realme\n",
      "vivo\n",
      "opppo\n"
     ]
    }
   ],
   "source": [
    "def mob(*arg):\n",
    "    for i in arg:\n",
    "        if i==\"apple\":\n",
    "            continue\n",
    "        print(i)\n",
    "\n",
    "\n",
    "mob(\"samsung\",\"motorola\",\"apple\",\"mi\",\"nokia\",\"realme\",\"vivo\",\"opppo\")"
   ]
  },
  {
   "cell_type": "code",
   "execution_count": 15,
   "metadata": {},
   "outputs": [
    {
     "name": "stdout",
     "output_type": "stream",
     "text": [
      "Given number is even\n"
     ]
    }
   ],
   "source": [
    "def find(num): \n",
    "    # code logic here \n",
    "    if num%2 == 0: \n",
    "        numtype=\"even\"\n",
    "    else: \n",
    "        numtype = \"odd\" \n",
    "    return numtype \n",
    " \n",
    "num = int(input('Enter the number: '))  # 1. take your input \n",
    "numtype = find(num)                     # 2. call the find function \n",
    "print('Given number is',numtype)"
   ]
  }
 ],
 "metadata": {
  "kernelspec": {
   "display_name": "Python 3.10.6 64-bit",
   "language": "python",
   "name": "python3"
  },
  "language_info": {
   "codemirror_mode": {
    "name": "ipython",
    "version": 3
   },
   "file_extension": ".py",
   "mimetype": "text/x-python",
   "name": "python",
   "nbconvert_exporter": "python",
   "pygments_lexer": "ipython3",
   "version": "3.10.6"
  },
  "orig_nbformat": 4,
  "vscode": {
   "interpreter": {
    "hash": "a912f55fab05c87cb1cd04c2481425fcfa639c2a43819b922954b685e4a5e63c"
   }
  }
 },
 "nbformat": 4,
 "nbformat_minor": 2
}
