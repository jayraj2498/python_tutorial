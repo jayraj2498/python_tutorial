{
 "cells": [
  {
   "cell_type": "markdown",
   "metadata": {},
   "source": [
    "WAP to find the yearly compound interest using function and that function should return interest to be paid"
   ]
  },
  {
   "cell_type": "code",
   "execution_count": 2,
   "metadata": {},
   "outputs": [
    {
     "name": "stdout",
     "output_type": "stream",
     "text": [
      "Following is the interest and final amount you'll get on a principal amount of 20000 invested for 10 years at 12% per year\n",
      "Interest = 42116.96 \n",
      "Final amount = 62116.96\n"
     ]
    }
   ],
   "source": [
    "def compound_interest(p, r, t):\n",
    "    amount = p * ( ( 1 + r / 100) ** t )\n",
    "    ci = amount - p\n",
    "    return ci\n",
    "\n",
    "p = int(input(\"Enter the principal amount: \"))\n",
    "r = int(input(\"Enter the yearly rate of interest: \"))\n",
    "t = int(input(\"Enter the time period: \"))\n",
    "\n",
    "ci = compound_interest( p, r, t )\n",
    "amount = p + ci\n",
    "\n",
    "print(f\"Following is the interest and final amount you'll get on a principal amount of {p} invested for {t} years at {r}% per year\")\n",
    "print(f\"Interest = {round(ci, 2)} \\nFinal amount = {round(amount, 2)}\")"
   ]
  },
  {
   "cell_type": "markdown",
   "metadata": {},
   "source": [
    "WAP to find the prime factors of a number using functions"
   ]
  },
  {
   "cell_type": "code",
   "execution_count": 10,
   "metadata": {},
   "outputs": [
    {
     "name": "stdout",
     "output_type": "stream",
     "text": [
      "Prime Factors are - \n",
      "3\n",
      "5\n"
     ]
    }
   ],
   "source": [
    "def prime_factors(n):\n",
    "    print(\"Prime Factors are - \")\n",
    "    i = 1\n",
    "    while (i <= n):\n",
    "        k = 0\n",
    "        if( n % i == 0 ):\n",
    "            j = 1\n",
    "            while( j <= i):\n",
    "                if ( i % j == 0):\n",
    "                    k += 1\n",
    "                j += 1\n",
    "            if(k == 2):\n",
    "               print(i)\n",
    "\n",
    "        i += 1 \n",
    "\n",
    "num = int(input(\"Enter an integer: \"))\n",
    "prime_factors(num)"
   ]
  },
  {
   "cell_type": "markdown",
   "metadata": {},
   "source": [
    "WAP to create a user defined calculator function which will accept three parameters i.e., 2numbers and one mathematic symbol (*, /, +, -, //, **) and return the answer?"
   ]
  },
  {
   "cell_type": "markdown",
   "metadata": {},
   "source": [
    "WAP to check whether a number is even or odd using functions and user can enter the number as many times as he/she wants"
   ]
  },
  {
   "cell_type": "code",
   "execution_count": 13,
   "metadata": {},
   "outputs": [
    {
     "name": "stdout",
     "output_type": "stream",
     "text": [
      "16 is an even number\n",
      "17 is an odd number\n",
      "Thanks for using the code\n"
     ]
    }
   ],
   "source": [
    "def number_check(n):\n",
    "    if(n % 2 == 0):\n",
    "        return 1\n",
    "    else:\n",
    "        return 0\n",
    "while True:\n",
    "    num = int(input(\"Enter the number: \"))\n",
    "    f = number_check(num)\n",
    "    if(f == 1):\n",
    "        print(f\"{num} is an even number\")\n",
    "    else:\n",
    "        print(f\"{num} is an odd number\")\n",
    "    ch = input(\"Do you want to check another number? (y/n)\")\n",
    "    if(ch != \"y\"):\n",
    "        print(\"Thanks for using the code\")\n",
    "        break"
   ]
  },
  {
   "cell_type": "markdown",
   "metadata": {},
   "source": [
    "Arbitary Arguments - This is used when we don't know how many arguments will be passed on to the function"
   ]
  },
  {
   "cell_type": "code",
   "execution_count": 26,
   "metadata": {},
   "outputs": [
    {
     "name": "stdout",
     "output_type": "stream",
     "text": [
      "I like to eat - \n",
      "Peach, Apple, "
     ]
    }
   ],
   "source": [
    "#this is an example of non keyword arguments\n",
    "def my_function(*fruit): #here fruit will create a tuple of items passed on to the function\n",
    "    print(\"I like to eat - \")\n",
    "\n",
    "    for i in fruit:\n",
    "        print(i, end = \", \")\n",
    "\n",
    "my_function(\"Peach\", \"Apple\")\n"
   ]
  },
  {
   "cell_type": "code",
   "execution_count": 31,
   "metadata": {},
   "outputs": [
    {
     "name": "stdout",
     "output_type": "stream",
     "text": [
      "Details passed on to the function is: \n",
      "Firstname is Rahul\n",
      "Lastname is Roy\n",
      "Age is 26\n",
      "Phone is 123\n"
     ]
    }
   ],
   "source": [
    "#this is an example of keyword arguments\n",
    "def my_function(**details):\n",
    "    print(\"Details passed on to the function is: \")\n",
    "\n",
    "    for i in details:\n",
    "        print(f\"{i} is {details[i]}\")\n",
    "\n",
    "\n",
    "my_function(Firstname = \"Rahul\", Lastname = \"Roy\", Age = 26, Phone = 123)\n"
   ]
  },
  {
   "cell_type": "markdown",
   "metadata": {},
   "source": [
    "Default Parameters"
   ]
  },
  {
   "cell_type": "code",
   "execution_count": 36,
   "metadata": {},
   "outputs": [
    {
     "name": "stdout",
     "output_type": "stream",
     "text": [
      "I am from India I speak Hindi and like to eat Apple\n",
      "I am from USA I speak English and like to eat Banana\n"
     ]
    }
   ],
   "source": [
    "def my_function(country = \"India\", language = \"Hindi\", fruit = \"Apple\"):\n",
    "    print(f\"I am from {country} I speak {language} and like to eat {fruit}\")\n",
    "\n",
    "my_function()\n",
    "my_function(\"USA\", \"English\", \"Banana\")\n"
   ]
  },
  {
   "cell_type": "markdown",
   "metadata": {},
   "source": [
    "pass statement"
   ]
  },
  {
   "cell_type": "code",
   "execution_count": 39,
   "metadata": {},
   "outputs": [
    {
     "name": "stdout",
     "output_type": "stream",
     "text": [
      "Hello I have not defined the function\n"
     ]
    }
   ],
   "source": [
    "def my_function():\n",
    "    pass\n",
    "\n",
    "print(\"Hello I have not defined the function\")\n",
    "my_function()"
   ]
  }
 ],
 "metadata": {
  "kernelspec": {
   "display_name": "Python 3.10.7 64-bit",
   "language": "python",
   "name": "python3"
  },
  "language_info": {
   "codemirror_mode": {
    "name": "ipython",
    "version": 3
   },
   "file_extension": ".py",
   "mimetype": "text/x-python",
   "name": "python",
   "nbconvert_exporter": "python",
   "pygments_lexer": "ipython3",
   "version": "3.10.7"
  },
  "orig_nbformat": 4,
  "vscode": {
   "interpreter": {
    "hash": "590b180dab2cf1cf59e3c00b5a8264fd71429a2ca4746b38f592ec00d40d44a5"
   }
  }
 },
 "nbformat": 4,
 "nbformat_minor": 2
}
